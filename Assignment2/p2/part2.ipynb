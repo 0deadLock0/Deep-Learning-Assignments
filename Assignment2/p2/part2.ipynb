{
  "cells": [
    {
      "cell_type": "markdown",
      "metadata": {
        "id": "UfCKr9V3AY_h"
      },
      "source": [
        "Dataset: Mini Daily Dialog - Use train.csv and test.csv file for the assignment.\n",
        "Note: Data trimming is not allowed in this question.\n",
        "\n",
        "Dataset description: The dataset is a sample of widely used DailyDialog dataset for dialogue-act classification task.\n",
        "\n",
        "Task: Dialogue-act Classification: \n",
        "\n",
        "For a given dialogue students need to develop a program to predict act of utterance at time T with the help of previous X utterances as context.\n",
        "\n",
        "1. Visualize dialogue corpus and show stats of the train and test file. [2 Marks]\n",
        "\n",
        "2. Implement a program using just LSTM and linear layers to predict act of utterance at time T considering previous X utterances’ context. [8 Marks]\n",
        "Note: Students need to propose an architecture for this.\n",
        "\n",
        "3. Now, show plots for accuracy and weighted F1 scores for X = {0,1,2,3,4} [10 Marks]\n",
        "\n",
        "4. Does the performance of the model increase with increase in X? Justify. [5 Marks]\n",
        "\n",
        "Expected deliverables of the assignment \n",
        "\n",
        "- For every question within each part, visualize the learning using the following plots:\n",
        "- Training Loss vs Number of Epochs\n",
        "- Validation Loss vs Number of Epochs\n",
        "- Plots showing convergence over different values of X\n",
        "- Save the models in pickles. Students will be asked to reproduce results using saved models only."
      ]
    },
    {
      "cell_type": "code",
      "execution_count": 4,
      "metadata": {
        "id": "fC2u1KBaAY_l"
      },
      "outputs": [],
      "source": [
        "import os\n",
        "import sys\n",
        "import numpy as np\n",
        "import matplotlib.pyplot as plt\n",
        "import seaborn as sns\n",
        "\n",
        "import pandas as pd"
      ]
    },
    {
      "cell_type": "code",
      "execution_count": 5,
      "metadata": {
        "id": "KIet-Qz0AY_m"
      },
      "outputs": [],
      "source": [
        "from sklearn.preprocessing import OneHotEncoder\n",
        "from sklearn.metrics import classification_report"
      ]
    },
    {
      "cell_type": "code",
      "execution_count": 6,
      "metadata": {
        "colab": {
          "base_uri": "https://localhost:8080/"
        },
        "id": "L4_kLeZ8AY_n",
        "outputId": "e0be74b6-afc9-4f1b-da21-59e41a6d2bb9"
      },
      "outputs": [
        {
          "output_type": "stream",
          "name": "stdout",
          "text": [
            "Mounted at /content/drive\n",
            "[nltk_data] Downloading package punkt to /root/nltk_data...\n",
            "[nltk_data]   Unzipping tokenizers/punkt.zip.\n",
            "[nltk_data] Downloading package stopwords to /root/nltk_data...\n",
            "[nltk_data]   Unzipping corpora/stopwords.zip.\n"
          ]
        }
      ],
      "source": [
        "from google.colab import drive\n",
        "drive.mount('/content/drive')\n",
        "import nltk\n",
        "nltk.download('punkt')\n",
        "nltk.download('stopwords')\n",
        " \n",
        "from nltk import word_tokenize\n",
        "from nltk.corpus import stopwords\n",
        "from nltk.stem import PorterStemmer\n",
        "from string import punctuation"
      ]
    },
    {
      "cell_type": "code",
      "execution_count": 7,
      "metadata": {
        "id": "KykPYAgrAY_n"
      },
      "outputs": [],
      "source": [
        "import tensorflow as tf\n",
        "from tensorflow.keras.preprocessing.text import Tokenizer\n",
        "from tensorflow.keras.preprocessing.sequence import pad_sequences"
      ]
    },
    {
      "cell_type": "code",
      "execution_count": 8,
      "metadata": {
        "id": "sE1NXelYAY_o"
      },
      "outputs": [],
      "source": [
        "folder_path = \"/content/drive/MyDrive/DL_A2\"\n",
        "train_file = folder_path + '/train.csv' \n",
        "test_file = folder_path + '/test.csv'"
      ]
    },
    {
      "cell_type": "code",
      "execution_count": 9,
      "metadata": {
        "_cell_guid": "79c7e3d0-c299-4dcb-8224-4455121ee9b0",
        "_uuid": "d629ff2d2480ee46fbb7e2d37f6b5fab8052498a",
        "scrolled": true,
        "id": "I4bUWBiJAY_p"
      },
      "outputs": [],
      "source": [
        "train_data = pd.read_csv(train_file, header=0, names=[\"utterance\", \"act\"])\n",
        "test_data = pd.read_csv(test_file, header=0, names=[\"utterance\", \"act\"])"
      ]
    },
    {
      "cell_type": "markdown",
      "metadata": {
        "id": "8AMHycvTAY_p"
      },
      "source": [
        "# Part 1: EDA"
      ]
    },
    {
      "cell_type": "markdown",
      "metadata": {
        "id": "L4WBeIvOAY_q"
      },
      "source": [
        "## 1.1. Visualisation"
      ]
    },
    {
      "cell_type": "code",
      "execution_count": 10,
      "metadata": {
        "colab": {
          "base_uri": "https://localhost:8080/"
        },
        "id": "5u39pZ8-AY_q",
        "outputId": "608f1cd3-b473-4608-e441-c02a5a88810e"
      },
      "outputs": [
        {
          "output_type": "execute_result",
          "data": {
            "text/plain": [
              "((5090, 2), (722, 2))"
            ]
          },
          "metadata": {},
          "execution_count": 10
        }
      ],
      "source": [
        "train_data.shape, test_data.shape"
      ]
    },
    {
      "cell_type": "code",
      "execution_count": 11,
      "metadata": {
        "scrolled": true,
        "colab": {
          "base_uri": "https://localhost:8080/",
          "height": 363
        },
        "id": "OPGdAgCwAY_r",
        "outputId": "606012e9-0f3e-4e4b-9e78-6d8d2fd84bc5"
      },
      "outputs": [
        {
          "output_type": "execute_result",
          "data": {
            "text/plain": [
              "                                           utterance  act\n",
              "0  Say , Jim , how about going for a few beers af...    3\n",
              "1   You know that is tempting but is really not g...    4\n",
              "2     What do you mean ? It will help us to relax .     2\n",
              "3   Do you really think so ? I don't . It will ju...    2\n",
              "4   I guess you are right.But what shall we do ? ...    2\n",
              "5   I suggest a walk over to the gym where we can...    3\n",
              "6   That's a good idea . I hear Mary and Sally of...    4\n",
              "7   Sounds great to me ! If they are willing , we...    1\n",
              "8                             Good.Let ' s go now .     3\n",
              "9                                       All right .     4"
            ],
            "text/html": [
              "\n",
              "  <div id=\"df-f7c15b4d-dfe0-4e4b-b930-4d807125ee2f\">\n",
              "    <div class=\"colab-df-container\">\n",
              "      <div>\n",
              "<style scoped>\n",
              "    .dataframe tbody tr th:only-of-type {\n",
              "        vertical-align: middle;\n",
              "    }\n",
              "\n",
              "    .dataframe tbody tr th {\n",
              "        vertical-align: top;\n",
              "    }\n",
              "\n",
              "    .dataframe thead th {\n",
              "        text-align: right;\n",
              "    }\n",
              "</style>\n",
              "<table border=\"1\" class=\"dataframe\">\n",
              "  <thead>\n",
              "    <tr style=\"text-align: right;\">\n",
              "      <th></th>\n",
              "      <th>utterance</th>\n",
              "      <th>act</th>\n",
              "    </tr>\n",
              "  </thead>\n",
              "  <tbody>\n",
              "    <tr>\n",
              "      <th>0</th>\n",
              "      <td>Say , Jim , how about going for a few beers af...</td>\n",
              "      <td>3</td>\n",
              "    </tr>\n",
              "    <tr>\n",
              "      <th>1</th>\n",
              "      <td>You know that is tempting but is really not g...</td>\n",
              "      <td>4</td>\n",
              "    </tr>\n",
              "    <tr>\n",
              "      <th>2</th>\n",
              "      <td>What do you mean ? It will help us to relax .</td>\n",
              "      <td>2</td>\n",
              "    </tr>\n",
              "    <tr>\n",
              "      <th>3</th>\n",
              "      <td>Do you really think so ? I don't . It will ju...</td>\n",
              "      <td>2</td>\n",
              "    </tr>\n",
              "    <tr>\n",
              "      <th>4</th>\n",
              "      <td>I guess you are right.But what shall we do ? ...</td>\n",
              "      <td>2</td>\n",
              "    </tr>\n",
              "    <tr>\n",
              "      <th>5</th>\n",
              "      <td>I suggest a walk over to the gym where we can...</td>\n",
              "      <td>3</td>\n",
              "    </tr>\n",
              "    <tr>\n",
              "      <th>6</th>\n",
              "      <td>That's a good idea . I hear Mary and Sally of...</td>\n",
              "      <td>4</td>\n",
              "    </tr>\n",
              "    <tr>\n",
              "      <th>7</th>\n",
              "      <td>Sounds great to me ! If they are willing , we...</td>\n",
              "      <td>1</td>\n",
              "    </tr>\n",
              "    <tr>\n",
              "      <th>8</th>\n",
              "      <td>Good.Let ' s go now .</td>\n",
              "      <td>3</td>\n",
              "    </tr>\n",
              "    <tr>\n",
              "      <th>9</th>\n",
              "      <td>All right .</td>\n",
              "      <td>4</td>\n",
              "    </tr>\n",
              "  </tbody>\n",
              "</table>\n",
              "</div>\n",
              "      <button class=\"colab-df-convert\" onclick=\"convertToInteractive('df-f7c15b4d-dfe0-4e4b-b930-4d807125ee2f')\"\n",
              "              title=\"Convert this dataframe to an interactive table.\"\n",
              "              style=\"display:none;\">\n",
              "        \n",
              "  <svg xmlns=\"http://www.w3.org/2000/svg\" height=\"24px\"viewBox=\"0 0 24 24\"\n",
              "       width=\"24px\">\n",
              "    <path d=\"M0 0h24v24H0V0z\" fill=\"none\"/>\n",
              "    <path d=\"M18.56 5.44l.94 2.06.94-2.06 2.06-.94-2.06-.94-.94-2.06-.94 2.06-2.06.94zm-11 1L8.5 8.5l.94-2.06 2.06-.94-2.06-.94L8.5 2.5l-.94 2.06-2.06.94zm10 10l.94 2.06.94-2.06 2.06-.94-2.06-.94-.94-2.06-.94 2.06-2.06.94z\"/><path d=\"M17.41 7.96l-1.37-1.37c-.4-.4-.92-.59-1.43-.59-.52 0-1.04.2-1.43.59L10.3 9.45l-7.72 7.72c-.78.78-.78 2.05 0 2.83L4 21.41c.39.39.9.59 1.41.59.51 0 1.02-.2 1.41-.59l7.78-7.78 2.81-2.81c.8-.78.8-2.07 0-2.86zM5.41 20L4 18.59l7.72-7.72 1.47 1.35L5.41 20z\"/>\n",
              "  </svg>\n",
              "      </button>\n",
              "      \n",
              "  <style>\n",
              "    .colab-df-container {\n",
              "      display:flex;\n",
              "      flex-wrap:wrap;\n",
              "      gap: 12px;\n",
              "    }\n",
              "\n",
              "    .colab-df-convert {\n",
              "      background-color: #E8F0FE;\n",
              "      border: none;\n",
              "      border-radius: 50%;\n",
              "      cursor: pointer;\n",
              "      display: none;\n",
              "      fill: #1967D2;\n",
              "      height: 32px;\n",
              "      padding: 0 0 0 0;\n",
              "      width: 32px;\n",
              "    }\n",
              "\n",
              "    .colab-df-convert:hover {\n",
              "      background-color: #E2EBFA;\n",
              "      box-shadow: 0px 1px 2px rgba(60, 64, 67, 0.3), 0px 1px 3px 1px rgba(60, 64, 67, 0.15);\n",
              "      fill: #174EA6;\n",
              "    }\n",
              "\n",
              "    [theme=dark] .colab-df-convert {\n",
              "      background-color: #3B4455;\n",
              "      fill: #D2E3FC;\n",
              "    }\n",
              "\n",
              "    [theme=dark] .colab-df-convert:hover {\n",
              "      background-color: #434B5C;\n",
              "      box-shadow: 0px 1px 3px 1px rgba(0, 0, 0, 0.15);\n",
              "      filter: drop-shadow(0px 1px 2px rgba(0, 0, 0, 0.3));\n",
              "      fill: #FFFFFF;\n",
              "    }\n",
              "  </style>\n",
              "\n",
              "      <script>\n",
              "        const buttonEl =\n",
              "          document.querySelector('#df-f7c15b4d-dfe0-4e4b-b930-4d807125ee2f button.colab-df-convert');\n",
              "        buttonEl.style.display =\n",
              "          google.colab.kernel.accessAllowed ? 'block' : 'none';\n",
              "\n",
              "        async function convertToInteractive(key) {\n",
              "          const element = document.querySelector('#df-f7c15b4d-dfe0-4e4b-b930-4d807125ee2f');\n",
              "          const dataTable =\n",
              "            await google.colab.kernel.invokeFunction('convertToInteractive',\n",
              "                                                     [key], {});\n",
              "          if (!dataTable) return;\n",
              "\n",
              "          const docLinkHtml = 'Like what you see? Visit the ' +\n",
              "            '<a target=\"_blank\" href=https://colab.research.google.com/notebooks/data_table.ipynb>data table notebook</a>'\n",
              "            + ' to learn more about interactive tables.';\n",
              "          element.innerHTML = '';\n",
              "          dataTable['output_type'] = 'display_data';\n",
              "          await google.colab.output.renderOutput(dataTable, element);\n",
              "          const docLink = document.createElement('div');\n",
              "          docLink.innerHTML = docLinkHtml;\n",
              "          element.appendChild(docLink);\n",
              "        }\n",
              "      </script>\n",
              "    </div>\n",
              "  </div>\n",
              "  "
            ]
          },
          "metadata": {},
          "execution_count": 11
        }
      ],
      "source": [
        "train_data.head(10)"
      ]
    },
    {
      "cell_type": "code",
      "execution_count": 12,
      "metadata": {
        "colab": {
          "base_uri": "https://localhost:8080/",
          "height": 363
        },
        "id": "1zyVXIMfAY_r",
        "outputId": "502f7e62-377c-4250-b181-ec8182e6582e"
      },
      "outputs": [
        {
          "output_type": "execute_result",
          "data": {
            "text/plain": [
              "                                             utterance  act\n",
              "566  Hey , Karen . Look like you got some sun this ...    1\n",
              "541                        It is ? Oh , that's nice .     2\n",
              "480  Could you lend your bike to me for several day...    3\n",
              "315                                       I'm ready .     4\n",
              "270  When can we expect you for dinner ? Can you co...    3\n",
              "139   I don't have an aspirin . Perhaps you should ...    3\n",
              "670   On my first trip I went to Tokyo , and on my ...    1\n",
              "349   Maybe he is trying to find a job . When he fi...    1\n",
              "664                                   It's too late .     4\n",
              "44        Hey , Ann . You don't have a pen , do you ?     3"
            ],
            "text/html": [
              "\n",
              "  <div id=\"df-ffff9828-02f0-43cd-9e60-3f730e62f886\">\n",
              "    <div class=\"colab-df-container\">\n",
              "      <div>\n",
              "<style scoped>\n",
              "    .dataframe tbody tr th:only-of-type {\n",
              "        vertical-align: middle;\n",
              "    }\n",
              "\n",
              "    .dataframe tbody tr th {\n",
              "        vertical-align: top;\n",
              "    }\n",
              "\n",
              "    .dataframe thead th {\n",
              "        text-align: right;\n",
              "    }\n",
              "</style>\n",
              "<table border=\"1\" class=\"dataframe\">\n",
              "  <thead>\n",
              "    <tr style=\"text-align: right;\">\n",
              "      <th></th>\n",
              "      <th>utterance</th>\n",
              "      <th>act</th>\n",
              "    </tr>\n",
              "  </thead>\n",
              "  <tbody>\n",
              "    <tr>\n",
              "      <th>566</th>\n",
              "      <td>Hey , Karen . Look like you got some sun this ...</td>\n",
              "      <td>1</td>\n",
              "    </tr>\n",
              "    <tr>\n",
              "      <th>541</th>\n",
              "      <td>It is ? Oh , that's nice .</td>\n",
              "      <td>2</td>\n",
              "    </tr>\n",
              "    <tr>\n",
              "      <th>480</th>\n",
              "      <td>Could you lend your bike to me for several day...</td>\n",
              "      <td>3</td>\n",
              "    </tr>\n",
              "    <tr>\n",
              "      <th>315</th>\n",
              "      <td>I'm ready .</td>\n",
              "      <td>4</td>\n",
              "    </tr>\n",
              "    <tr>\n",
              "      <th>270</th>\n",
              "      <td>When can we expect you for dinner ? Can you co...</td>\n",
              "      <td>3</td>\n",
              "    </tr>\n",
              "    <tr>\n",
              "      <th>139</th>\n",
              "      <td>I don't have an aspirin . Perhaps you should ...</td>\n",
              "      <td>3</td>\n",
              "    </tr>\n",
              "    <tr>\n",
              "      <th>670</th>\n",
              "      <td>On my first trip I went to Tokyo , and on my ...</td>\n",
              "      <td>1</td>\n",
              "    </tr>\n",
              "    <tr>\n",
              "      <th>349</th>\n",
              "      <td>Maybe he is trying to find a job . When he fi...</td>\n",
              "      <td>1</td>\n",
              "    </tr>\n",
              "    <tr>\n",
              "      <th>664</th>\n",
              "      <td>It's too late .</td>\n",
              "      <td>4</td>\n",
              "    </tr>\n",
              "    <tr>\n",
              "      <th>44</th>\n",
              "      <td>Hey , Ann . You don't have a pen , do you ?</td>\n",
              "      <td>3</td>\n",
              "    </tr>\n",
              "  </tbody>\n",
              "</table>\n",
              "</div>\n",
              "      <button class=\"colab-df-convert\" onclick=\"convertToInteractive('df-ffff9828-02f0-43cd-9e60-3f730e62f886')\"\n",
              "              title=\"Convert this dataframe to an interactive table.\"\n",
              "              style=\"display:none;\">\n",
              "        \n",
              "  <svg xmlns=\"http://www.w3.org/2000/svg\" height=\"24px\"viewBox=\"0 0 24 24\"\n",
              "       width=\"24px\">\n",
              "    <path d=\"M0 0h24v24H0V0z\" fill=\"none\"/>\n",
              "    <path d=\"M18.56 5.44l.94 2.06.94-2.06 2.06-.94-2.06-.94-.94-2.06-.94 2.06-2.06.94zm-11 1L8.5 8.5l.94-2.06 2.06-.94-2.06-.94L8.5 2.5l-.94 2.06-2.06.94zm10 10l.94 2.06.94-2.06 2.06-.94-2.06-.94-.94-2.06-.94 2.06-2.06.94z\"/><path d=\"M17.41 7.96l-1.37-1.37c-.4-.4-.92-.59-1.43-.59-.52 0-1.04.2-1.43.59L10.3 9.45l-7.72 7.72c-.78.78-.78 2.05 0 2.83L4 21.41c.39.39.9.59 1.41.59.51 0 1.02-.2 1.41-.59l7.78-7.78 2.81-2.81c.8-.78.8-2.07 0-2.86zM5.41 20L4 18.59l7.72-7.72 1.47 1.35L5.41 20z\"/>\n",
              "  </svg>\n",
              "      </button>\n",
              "      \n",
              "  <style>\n",
              "    .colab-df-container {\n",
              "      display:flex;\n",
              "      flex-wrap:wrap;\n",
              "      gap: 12px;\n",
              "    }\n",
              "\n",
              "    .colab-df-convert {\n",
              "      background-color: #E8F0FE;\n",
              "      border: none;\n",
              "      border-radius: 50%;\n",
              "      cursor: pointer;\n",
              "      display: none;\n",
              "      fill: #1967D2;\n",
              "      height: 32px;\n",
              "      padding: 0 0 0 0;\n",
              "      width: 32px;\n",
              "    }\n",
              "\n",
              "    .colab-df-convert:hover {\n",
              "      background-color: #E2EBFA;\n",
              "      box-shadow: 0px 1px 2px rgba(60, 64, 67, 0.3), 0px 1px 3px 1px rgba(60, 64, 67, 0.15);\n",
              "      fill: #174EA6;\n",
              "    }\n",
              "\n",
              "    [theme=dark] .colab-df-convert {\n",
              "      background-color: #3B4455;\n",
              "      fill: #D2E3FC;\n",
              "    }\n",
              "\n",
              "    [theme=dark] .colab-df-convert:hover {\n",
              "      background-color: #434B5C;\n",
              "      box-shadow: 0px 1px 3px 1px rgba(0, 0, 0, 0.15);\n",
              "      filter: drop-shadow(0px 1px 2px rgba(0, 0, 0, 0.3));\n",
              "      fill: #FFFFFF;\n",
              "    }\n",
              "  </style>\n",
              "\n",
              "      <script>\n",
              "        const buttonEl =\n",
              "          document.querySelector('#df-ffff9828-02f0-43cd-9e60-3f730e62f886 button.colab-df-convert');\n",
              "        buttonEl.style.display =\n",
              "          google.colab.kernel.accessAllowed ? 'block' : 'none';\n",
              "\n",
              "        async function convertToInteractive(key) {\n",
              "          const element = document.querySelector('#df-ffff9828-02f0-43cd-9e60-3f730e62f886');\n",
              "          const dataTable =\n",
              "            await google.colab.kernel.invokeFunction('convertToInteractive',\n",
              "                                                     [key], {});\n",
              "          if (!dataTable) return;\n",
              "\n",
              "          const docLinkHtml = 'Like what you see? Visit the ' +\n",
              "            '<a target=\"_blank\" href=https://colab.research.google.com/notebooks/data_table.ipynb>data table notebook</a>'\n",
              "            + ' to learn more about interactive tables.';\n",
              "          element.innerHTML = '';\n",
              "          dataTable['output_type'] = 'display_data';\n",
              "          await google.colab.output.renderOutput(dataTable, element);\n",
              "          const docLink = document.createElement('div');\n",
              "          docLink.innerHTML = docLinkHtml;\n",
              "          element.appendChild(docLink);\n",
              "        }\n",
              "      </script>\n",
              "    </div>\n",
              "  </div>\n",
              "  "
            ]
          },
          "metadata": {},
          "execution_count": 12
        }
      ],
      "source": [
        "test_data.sample(10)"
      ]
    },
    {
      "cell_type": "code",
      "execution_count": 13,
      "metadata": {
        "colab": {
          "base_uri": "https://localhost:8080/",
          "height": 206
        },
        "id": "-0Sc8woGAY_s",
        "outputId": "f5b44251-4565-4761-d9c4-24cfe0df828d"
      },
      "outputs": [
        {
          "output_type": "execute_result",
          "data": {
            "text/plain": [
              "     utterance\n",
              "act           \n",
              "1         2859\n",
              "2         1497\n",
              "3          426\n",
              "4          308"
            ],
            "text/html": [
              "\n",
              "  <div id=\"df-21705faf-b840-4cf6-a013-f6a6f6464265\">\n",
              "    <div class=\"colab-df-container\">\n",
              "      <div>\n",
              "<style scoped>\n",
              "    .dataframe tbody tr th:only-of-type {\n",
              "        vertical-align: middle;\n",
              "    }\n",
              "\n",
              "    .dataframe tbody tr th {\n",
              "        vertical-align: top;\n",
              "    }\n",
              "\n",
              "    .dataframe thead th {\n",
              "        text-align: right;\n",
              "    }\n",
              "</style>\n",
              "<table border=\"1\" class=\"dataframe\">\n",
              "  <thead>\n",
              "    <tr style=\"text-align: right;\">\n",
              "      <th></th>\n",
              "      <th>utterance</th>\n",
              "    </tr>\n",
              "    <tr>\n",
              "      <th>act</th>\n",
              "      <th></th>\n",
              "    </tr>\n",
              "  </thead>\n",
              "  <tbody>\n",
              "    <tr>\n",
              "      <th>1</th>\n",
              "      <td>2859</td>\n",
              "    </tr>\n",
              "    <tr>\n",
              "      <th>2</th>\n",
              "      <td>1497</td>\n",
              "    </tr>\n",
              "    <tr>\n",
              "      <th>3</th>\n",
              "      <td>426</td>\n",
              "    </tr>\n",
              "    <tr>\n",
              "      <th>4</th>\n",
              "      <td>308</td>\n",
              "    </tr>\n",
              "  </tbody>\n",
              "</table>\n",
              "</div>\n",
              "      <button class=\"colab-df-convert\" onclick=\"convertToInteractive('df-21705faf-b840-4cf6-a013-f6a6f6464265')\"\n",
              "              title=\"Convert this dataframe to an interactive table.\"\n",
              "              style=\"display:none;\">\n",
              "        \n",
              "  <svg xmlns=\"http://www.w3.org/2000/svg\" height=\"24px\"viewBox=\"0 0 24 24\"\n",
              "       width=\"24px\">\n",
              "    <path d=\"M0 0h24v24H0V0z\" fill=\"none\"/>\n",
              "    <path d=\"M18.56 5.44l.94 2.06.94-2.06 2.06-.94-2.06-.94-.94-2.06-.94 2.06-2.06.94zm-11 1L8.5 8.5l.94-2.06 2.06-.94-2.06-.94L8.5 2.5l-.94 2.06-2.06.94zm10 10l.94 2.06.94-2.06 2.06-.94-2.06-.94-.94-2.06-.94 2.06-2.06.94z\"/><path d=\"M17.41 7.96l-1.37-1.37c-.4-.4-.92-.59-1.43-.59-.52 0-1.04.2-1.43.59L10.3 9.45l-7.72 7.72c-.78.78-.78 2.05 0 2.83L4 21.41c.39.39.9.59 1.41.59.51 0 1.02-.2 1.41-.59l7.78-7.78 2.81-2.81c.8-.78.8-2.07 0-2.86zM5.41 20L4 18.59l7.72-7.72 1.47 1.35L5.41 20z\"/>\n",
              "  </svg>\n",
              "      </button>\n",
              "      \n",
              "  <style>\n",
              "    .colab-df-container {\n",
              "      display:flex;\n",
              "      flex-wrap:wrap;\n",
              "      gap: 12px;\n",
              "    }\n",
              "\n",
              "    .colab-df-convert {\n",
              "      background-color: #E8F0FE;\n",
              "      border: none;\n",
              "      border-radius: 50%;\n",
              "      cursor: pointer;\n",
              "      display: none;\n",
              "      fill: #1967D2;\n",
              "      height: 32px;\n",
              "      padding: 0 0 0 0;\n",
              "      width: 32px;\n",
              "    }\n",
              "\n",
              "    .colab-df-convert:hover {\n",
              "      background-color: #E2EBFA;\n",
              "      box-shadow: 0px 1px 2px rgba(60, 64, 67, 0.3), 0px 1px 3px 1px rgba(60, 64, 67, 0.15);\n",
              "      fill: #174EA6;\n",
              "    }\n",
              "\n",
              "    [theme=dark] .colab-df-convert {\n",
              "      background-color: #3B4455;\n",
              "      fill: #D2E3FC;\n",
              "    }\n",
              "\n",
              "    [theme=dark] .colab-df-convert:hover {\n",
              "      background-color: #434B5C;\n",
              "      box-shadow: 0px 1px 3px 1px rgba(0, 0, 0, 0.15);\n",
              "      filter: drop-shadow(0px 1px 2px rgba(0, 0, 0, 0.3));\n",
              "      fill: #FFFFFF;\n",
              "    }\n",
              "  </style>\n",
              "\n",
              "      <script>\n",
              "        const buttonEl =\n",
              "          document.querySelector('#df-21705faf-b840-4cf6-a013-f6a6f6464265 button.colab-df-convert');\n",
              "        buttonEl.style.display =\n",
              "          google.colab.kernel.accessAllowed ? 'block' : 'none';\n",
              "\n",
              "        async function convertToInteractive(key) {\n",
              "          const element = document.querySelector('#df-21705faf-b840-4cf6-a013-f6a6f6464265');\n",
              "          const dataTable =\n",
              "            await google.colab.kernel.invokeFunction('convertToInteractive',\n",
              "                                                     [key], {});\n",
              "          if (!dataTable) return;\n",
              "\n",
              "          const docLinkHtml = 'Like what you see? Visit the ' +\n",
              "            '<a target=\"_blank\" href=https://colab.research.google.com/notebooks/data_table.ipynb>data table notebook</a>'\n",
              "            + ' to learn more about interactive tables.';\n",
              "          element.innerHTML = '';\n",
              "          dataTable['output_type'] = 'display_data';\n",
              "          await google.colab.output.renderOutput(dataTable, element);\n",
              "          const docLink = document.createElement('div');\n",
              "          docLink.innerHTML = docLinkHtml;\n",
              "          element.appendChild(docLink);\n",
              "        }\n",
              "      </script>\n",
              "    </div>\n",
              "  </div>\n",
              "  "
            ]
          },
          "metadata": {},
          "execution_count": 13
        }
      ],
      "source": [
        "train_data.groupby(\"act\").count()"
      ]
    },
    {
      "cell_type": "code",
      "execution_count": 14,
      "metadata": {
        "colab": {
          "base_uri": "https://localhost:8080/",
          "height": 206
        },
        "id": "KHJ6CamgAY_s",
        "outputId": "f707cbdb-543c-4a0f-d3d4-b7b7f82ba557"
      },
      "outputs": [
        {
          "output_type": "execute_result",
          "data": {
            "text/plain": [
              "     utterance\n",
              "act           \n",
              "1          363\n",
              "2          217\n",
              "3           83\n",
              "4           59"
            ],
            "text/html": [
              "\n",
              "  <div id=\"df-8e97b5fa-6508-4b64-8a2d-5dd2593313fe\">\n",
              "    <div class=\"colab-df-container\">\n",
              "      <div>\n",
              "<style scoped>\n",
              "    .dataframe tbody tr th:only-of-type {\n",
              "        vertical-align: middle;\n",
              "    }\n",
              "\n",
              "    .dataframe tbody tr th {\n",
              "        vertical-align: top;\n",
              "    }\n",
              "\n",
              "    .dataframe thead th {\n",
              "        text-align: right;\n",
              "    }\n",
              "</style>\n",
              "<table border=\"1\" class=\"dataframe\">\n",
              "  <thead>\n",
              "    <tr style=\"text-align: right;\">\n",
              "      <th></th>\n",
              "      <th>utterance</th>\n",
              "    </tr>\n",
              "    <tr>\n",
              "      <th>act</th>\n",
              "      <th></th>\n",
              "    </tr>\n",
              "  </thead>\n",
              "  <tbody>\n",
              "    <tr>\n",
              "      <th>1</th>\n",
              "      <td>363</td>\n",
              "    </tr>\n",
              "    <tr>\n",
              "      <th>2</th>\n",
              "      <td>217</td>\n",
              "    </tr>\n",
              "    <tr>\n",
              "      <th>3</th>\n",
              "      <td>83</td>\n",
              "    </tr>\n",
              "    <tr>\n",
              "      <th>4</th>\n",
              "      <td>59</td>\n",
              "    </tr>\n",
              "  </tbody>\n",
              "</table>\n",
              "</div>\n",
              "      <button class=\"colab-df-convert\" onclick=\"convertToInteractive('df-8e97b5fa-6508-4b64-8a2d-5dd2593313fe')\"\n",
              "              title=\"Convert this dataframe to an interactive table.\"\n",
              "              style=\"display:none;\">\n",
              "        \n",
              "  <svg xmlns=\"http://www.w3.org/2000/svg\" height=\"24px\"viewBox=\"0 0 24 24\"\n",
              "       width=\"24px\">\n",
              "    <path d=\"M0 0h24v24H0V0z\" fill=\"none\"/>\n",
              "    <path d=\"M18.56 5.44l.94 2.06.94-2.06 2.06-.94-2.06-.94-.94-2.06-.94 2.06-2.06.94zm-11 1L8.5 8.5l.94-2.06 2.06-.94-2.06-.94L8.5 2.5l-.94 2.06-2.06.94zm10 10l.94 2.06.94-2.06 2.06-.94-2.06-.94-.94-2.06-.94 2.06-2.06.94z\"/><path d=\"M17.41 7.96l-1.37-1.37c-.4-.4-.92-.59-1.43-.59-.52 0-1.04.2-1.43.59L10.3 9.45l-7.72 7.72c-.78.78-.78 2.05 0 2.83L4 21.41c.39.39.9.59 1.41.59.51 0 1.02-.2 1.41-.59l7.78-7.78 2.81-2.81c.8-.78.8-2.07 0-2.86zM5.41 20L4 18.59l7.72-7.72 1.47 1.35L5.41 20z\"/>\n",
              "  </svg>\n",
              "      </button>\n",
              "      \n",
              "  <style>\n",
              "    .colab-df-container {\n",
              "      display:flex;\n",
              "      flex-wrap:wrap;\n",
              "      gap: 12px;\n",
              "    }\n",
              "\n",
              "    .colab-df-convert {\n",
              "      background-color: #E8F0FE;\n",
              "      border: none;\n",
              "      border-radius: 50%;\n",
              "      cursor: pointer;\n",
              "      display: none;\n",
              "      fill: #1967D2;\n",
              "      height: 32px;\n",
              "      padding: 0 0 0 0;\n",
              "      width: 32px;\n",
              "    }\n",
              "\n",
              "    .colab-df-convert:hover {\n",
              "      background-color: #E2EBFA;\n",
              "      box-shadow: 0px 1px 2px rgba(60, 64, 67, 0.3), 0px 1px 3px 1px rgba(60, 64, 67, 0.15);\n",
              "      fill: #174EA6;\n",
              "    }\n",
              "\n",
              "    [theme=dark] .colab-df-convert {\n",
              "      background-color: #3B4455;\n",
              "      fill: #D2E3FC;\n",
              "    }\n",
              "\n",
              "    [theme=dark] .colab-df-convert:hover {\n",
              "      background-color: #434B5C;\n",
              "      box-shadow: 0px 1px 3px 1px rgba(0, 0, 0, 0.15);\n",
              "      filter: drop-shadow(0px 1px 2px rgba(0, 0, 0, 0.3));\n",
              "      fill: #FFFFFF;\n",
              "    }\n",
              "  </style>\n",
              "\n",
              "      <script>\n",
              "        const buttonEl =\n",
              "          document.querySelector('#df-8e97b5fa-6508-4b64-8a2d-5dd2593313fe button.colab-df-convert');\n",
              "        buttonEl.style.display =\n",
              "          google.colab.kernel.accessAllowed ? 'block' : 'none';\n",
              "\n",
              "        async function convertToInteractive(key) {\n",
              "          const element = document.querySelector('#df-8e97b5fa-6508-4b64-8a2d-5dd2593313fe');\n",
              "          const dataTable =\n",
              "            await google.colab.kernel.invokeFunction('convertToInteractive',\n",
              "                                                     [key], {});\n",
              "          if (!dataTable) return;\n",
              "\n",
              "          const docLinkHtml = 'Like what you see? Visit the ' +\n",
              "            '<a target=\"_blank\" href=https://colab.research.google.com/notebooks/data_table.ipynb>data table notebook</a>'\n",
              "            + ' to learn more about interactive tables.';\n",
              "          element.innerHTML = '';\n",
              "          dataTable['output_type'] = 'display_data';\n",
              "          await google.colab.output.renderOutput(dataTable, element);\n",
              "          const docLink = document.createElement('div');\n",
              "          docLink.innerHTML = docLinkHtml;\n",
              "          element.appendChild(docLink);\n",
              "        }\n",
              "      </script>\n",
              "    </div>\n",
              "  </div>\n",
              "  "
            ]
          },
          "metadata": {},
          "execution_count": 14
        }
      ],
      "source": [
        "test_data.groupby(\"act\").count()"
      ]
    },
    {
      "cell_type": "code",
      "execution_count": 15,
      "metadata": {
        "colab": {
          "base_uri": "https://localhost:8080/"
        },
        "id": "DUn1A2ycAY_s",
        "outputId": "d7313483-d912-4d86-ce62-d1649233a57c"
      },
      "outputs": [
        {
          "output_type": "execute_result",
          "data": {
            "text/plain": [
              "((5090, 2), (722, 2))"
            ]
          },
          "metadata": {},
          "execution_count": 15
        }
      ],
      "source": [
        "train_data.shape, test_data.shape"
      ]
    },
    {
      "cell_type": "code",
      "execution_count": 16,
      "metadata": {
        "colab": {
          "base_uri": "https://localhost:8080/",
          "height": 287
        },
        "id": "r8PfHc2dAY_t",
        "outputId": "8e3fa628-fe2d-4425-b006-190d68573265"
      },
      "outputs": [
        {
          "output_type": "execute_result",
          "data": {
            "text/plain": [
              "<matplotlib.axes._subplots.AxesSubplot at 0x7f57276d6090>"
            ]
          },
          "metadata": {},
          "execution_count": 16
        },
        {
          "output_type": "display_data",
          "data": {
            "text/plain": [
              "<Figure size 432x288 with 1 Axes>"
            ],
            "image/png": "[encoded data removed]"
          },
          "metadata": {
            "needs_background": "light"
          }
        }
      ],
      "source": [
        "train_data[\"act\"].hist()"
      ]
    },
    {
      "cell_type": "code",
      "execution_count": 17,
      "metadata": {
        "colab": {
          "base_uri": "https://localhost:8080/",
          "height": 283
        },
        "id": "rUt0gHCjAY_t",
        "outputId": "65403593-9075-4e49-a87e-9fb030ed6cde"
      },
      "outputs": [
        {
          "output_type": "execute_result",
          "data": {
            "text/plain": [
              "<matplotlib.axes._subplots.AxesSubplot at 0x7f5727191e90>"
            ]
          },
          "metadata": {},
          "execution_count": 17
        },
        {
          "output_type": "display_data",
          "data": {
            "text/plain": [
              "<Figure size 432x288 with 1 Axes>"
            ],
            "image/png": "[encoded data removed]"
          },
          "metadata": {
            "needs_background": "light"
          }
        }
      ],
      "source": [
        "test_data.act.hist()"
      ]
    },
    {
      "cell_type": "markdown",
      "metadata": {
        "id": "EEZzAsptAY_t"
      },
      "source": [
        "## 1.2. Data Cleaning"
      ]
    },
    {
      "cell_type": "code",
      "execution_count": 18,
      "metadata": {
        "id": "Er50O953AY_t"
      },
      "outputs": [],
      "source": [
        "def remove_stop(strings, stop_list):\n",
        "    classed= [s for s in strings if s not in stop_list]\n",
        "    return classed\n",
        "\n",
        "def normalize(text):\n",
        "    return \" \".join(text)"
      ]
    },
    {
      "cell_type": "code",
      "execution_count": 19,
      "metadata": {
        "id": "QtakybISAY_u"
      },
      "outputs": [],
      "source": [
        "ytrain = np.array(train_data.act).reshape(-1,1)\n",
        "ytest  = np.array(test_data.act).reshape(-1,1)"
      ]
    },
    {
      "cell_type": "code",
      "execution_count": 20,
      "metadata": {
        "id": "jFnnpFm9AY_u"
      },
      "outputs": [],
      "source": [
        "y_encoder = OneHotEncoder().fit(np.array(train_data.act).reshape(-1,1))\n",
        "ytrain_encoded = y_encoder.transform(np.array(train_data.act).reshape(-1,1)).toarray()\n",
        "ytest_encoded  = y_encoder.transform(np.array(test_data.act).reshape(-1,1)).toarray()"
      ]
    },
    {
      "cell_type": "code",
      "execution_count": 21,
      "metadata": {
        "id": "idijLSN3AY_u"
      },
      "outputs": [],
      "source": [
        "train_data[\"all_lower\"]= train_data.utterance.map(lambda x: x.lower())\n",
        "test_data[\"all_lower\"]= test_data.utterance.map(lambda x: x.lower())"
      ]
    },
    {
      "cell_type": "code",
      "execution_count": 22,
      "metadata": {
        "id": "vl8ukgzXAY_u"
      },
      "outputs": [],
      "source": [
        "train_data[\"tokenized\"]= train_data.all_lower.map(word_tokenize)\n",
        "test_data[\"tokenized\"]= test_data.all_lower.map(word_tokenize)"
      ]
    },
    {
      "cell_type": "code",
      "execution_count": 23,
      "metadata": {
        "id": "AUfy6oBGAY_v"
      },
      "outputs": [],
      "source": [
        "stop = stopwords.words(\"english\")\n",
        "stop_punc = list(set(punctuation))+ stop"
      ]
    },
    {
      "cell_type": "code",
      "execution_count": 24,
      "metadata": {
        "id": "4shHPmQ1AY_v"
      },
      "outputs": [],
      "source": [
        "train_data[\"refine\"]= train_data.tokenized.map(lambda df: remove_stop(df, stop_punc))\n",
        "test_data[\"refine\"]= test_data.tokenized.map(lambda df: remove_stop(df, stop_punc))"
      ]
    },
    {
      "cell_type": "code",
      "execution_count": 25,
      "metadata": {
        "id": "CqSNAXFRAY_v"
      },
      "outputs": [],
      "source": [
        "stemmer= PorterStemmer()\n",
        "\n",
        "train_data[\"stemmed\"]= train_data.refine.map(lambda xs: [stemmer.stem(x) for x in xs])\n",
        "train_data[\"normalized\"]= train_data.stemmed.apply(normalize)\n",
        "\n",
        "test_data[\"stemmed\"]= test_data.refine.map(lambda xs: [stemmer.stem(x) for x in xs])\n",
        "test_data[\"normalized\"]= test_data.stemmed.apply(normalize)"
      ]
    },
    {
      "cell_type": "code",
      "execution_count": 26,
      "metadata": {
        "colab": {
          "base_uri": "https://localhost:8080/"
        },
        "id": "oGIH-xakAY_v",
        "outputId": "cf65525c-10ce-4f6a-8c96-dc30df24af72"
      },
      "outputs": [
        {
          "output_type": "execute_result",
          "data": {
            "text/plain": [
              "0                                  say jim go beer dinner\n",
              "1                              know tempt realli good fit\n",
              "2                                      mean help us relax\n",
              "3       realli think n't make us fat act silli rememb ...\n",
              "4            guess right.but shall n't feel like sit home\n",
              "                              ...                        \n",
              "5085                             tom helen got marri last\n",
              "5086                       know heart tom ’ father ’ agre\n",
              "5087                                     invit attend wed\n",
              "5088              ’ great although father ’ agre tom went\n",
              "5089                                            move love\n",
              "Name: normalized, Length: 5090, dtype: object"
            ]
          },
          "metadata": {},
          "execution_count": 26
        }
      ],
      "source": [
        "train_data.normalized"
      ]
    },
    {
      "cell_type": "code",
      "execution_count": 27,
      "metadata": {
        "id": "Ju10rpLSAY_v"
      },
      "outputs": [],
      "source": [
        "tokenizer= Tokenizer()\n",
        "tokenizer.fit_on_texts(train_data.normalized)"
      ]
    },
    {
      "cell_type": "code",
      "execution_count": 28,
      "metadata": {
        "id": "cokOUfSsAY_v"
      },
      "outputs": [],
      "source": [
        "tokenized_train = tokenizer.texts_to_sequences(train_data.normalized)\n",
        "tokenized_test = tokenizer.texts_to_sequences(test_data.normalized)"
      ]
    },
    {
      "cell_type": "code",
      "execution_count": 29,
      "metadata": {
        "colab": {
          "base_uri": "https://localhost:8080/"
        },
        "id": "qeUQVOIIAY_v",
        "outputId": "ba7ff4ef-4b96-4fce-d597-49771e17ff54"
      },
      "outputs": [
        {
          "output_type": "execute_result",
          "data": {
            "text/plain": [
              "3675"
            ]
          },
          "metadata": {},
          "execution_count": 29
        }
      ],
      "source": [
        "tokenizer.word_index.keys().__len__()"
      ]
    },
    {
      "cell_type": "code",
      "execution_count": 30,
      "metadata": {
        "colab": {
          "base_uri": "https://localhost:8080/"
        },
        "id": "IY6XXE4ZAY_w",
        "outputId": "2cef02b7-82a5-4bfd-f50e-715e261dee78"
      },
      "outputs": [
        {
          "output_type": "execute_result",
          "data": {
            "text/plain": [
              "((5090, 10), (722, 10))"
            ]
          },
          "metadata": {},
          "execution_count": 30
        }
      ],
      "source": [
        "train_padded = pad_sequences(tokenized_train, maxlen=10, padding = \"pre\")\n",
        "test_padded = pad_sequences(tokenized_test, maxlen=10, padding = \"pre\")\n",
        "\n",
        "train_padded.shape, test_padded.shape"
      ]
    },
    {
      "cell_type": "code",
      "execution_count": 31,
      "metadata": {
        "id": "sVEHTM2gAY_w"
      },
      "outputs": [],
      "source": [
        "def transform_x(data, tokenizer, x):\n",
        "    output_shape= [data.shape[0], x, tokenizer.word_index.keys().__len__()]\n",
        "    results= np.zeros(output_shape)\n",
        "    \n",
        "    for i in range(data.shape[0]):\n",
        "        for ii in range(x):\n",
        "            results[i, ii, data[i,ii]-1]= 1\n",
        "            \n",
        "    return results"
      ]
    },
    {
      "cell_type": "markdown",
      "metadata": {
        "id": "-nzD1dhXAY_w"
      },
      "source": [
        "# Part 2: NN - LSTM + Linear Layers"
      ]
    },
    {
      "cell_type": "markdown",
      "metadata": {
        "id": "ch3f84lcAY_w"
      },
      "source": [
        "## 2.1: Implement LSTM"
      ]
    },
    {
      "cell_type": "code",
      "execution_count": 32,
      "metadata": {
        "id": "_hmHy3TsAY_w"
      },
      "outputs": [],
      "source": [
        "class LSTMLinear(object):\n",
        "    def __init__(self):\n",
        "        self.loss= tf.keras.losses.CategoricalCrossentropy()\n",
        "        self.metrics= tf.keras.metrics.AUC()\n",
        "        self.optimizer= tf.keras.optimizers.Adam()        \n",
        "\n",
        "    def get_model(self, input_dim, output_shape, steps):\n",
        "        self.input_dim = input_dim\n",
        "        self.output_shape = output_shape\n",
        "        self.steps = steps\n",
        "        \n",
        "        model = self.build_model()\n",
        "        model = self.compile_model(model)\n",
        "        \n",
        "        return model\n",
        "        \n",
        "    def build_model(self):\n",
        "        \n",
        "        input_layer= tf.keras.layers.Input(shape=(self.steps, self.input_dim))\n",
        "        x = tf.keras.layers.LSTM(units=self.steps+1)(input_layer)\n",
        "        x = tf.keras.layers.BatchNormalization()(x)\n",
        "        x = tf.keras.layers.Dense(self.output_shape*2)(x)\n",
        "        x = tf.keras.layers.Dense(self.output_shape)(x)\n",
        "        output= tf.keras.activations.softmax(x, axis= 1)\n",
        " \n",
        "        model= tf.keras.Model(inputs= [input_layer], outputs= [output])\n",
        "        \n",
        "        return model\n",
        "    \n",
        "    def compile_model(self, model):\n",
        "\n",
        "        model.compile(optimizer= self.optimizer, loss= self.loss, metrics= [self.metrics])\n",
        "        \n",
        "        return model"
      ]
    },
    {
      "cell_type": "code",
      "execution_count": 33,
      "metadata": {
        "id": "j0vIMgtJAY_w"
      },
      "outputs": [],
      "source": [
        "model_dir = LSTMLinear()"
      ]
    },
    {
      "cell_type": "markdown",
      "metadata": {
        "id": "HQVZcNO8AY_x"
      },
      "source": [
        "# Part 3: Train LSTM for different steps"
      ]
    },
    {
      "cell_type": "markdown",
      "metadata": {
        "id": "i5wPReLkAY_x"
      },
      "source": [
        "## Part 3.1: Train for X=0\n"
      ]
    },
    {
      "cell_type": "code",
      "execution_count": 34,
      "metadata": {
        "colab": {
          "base_uri": "https://localhost:8080/"
        },
        "id": "aJ8ClaynAY_x",
        "outputId": "3f406a19-e8cb-4c2d-dbfc-b9f8ff615c9b"
      },
      "outputs": [
        {
          "output_type": "execute_result",
          "data": {
            "text/plain": [
              "((5090, 1, 10), (722, 1, 10))"
            ]
          },
          "metadata": {},
          "execution_count": 34
        }
      ],
      "source": [
        "Xtrain0 = train_padded.copy()\n",
        "Xtest0 = test_padded.copy()\n",
        "\n",
        "Xtrain0 = Xtrain0[:, np.newaxis, :]\n",
        "Xtest0 = Xtest0[:, np.newaxis, :]\n",
        "\n",
        "Xtrain0.shape , Xtest0.shape"
      ]
    },
    {
      "cell_type": "code",
      "execution_count": 35,
      "metadata": {
        "id": "Dusup8GCAY_x"
      },
      "outputs": [],
      "source": [
        "steps = Xtrain0.shape[1]\n",
        "dim = Xtrain0.shape[2]\n",
        "output_shape = ytrain_encoded.shape[1]\n",
        "epochs = 10"
      ]
    },
    {
      "cell_type": "code",
      "execution_count": 36,
      "metadata": {
        "colab": {
          "base_uri": "https://localhost:8080/"
        },
        "id": "rYKIT8PBAY_x",
        "outputId": "e434eb8e-ad44-468c-fb5b-ad98bed158cc"
      },
      "outputs": [
        {
          "output_type": "execute_result",
          "data": {
            "text/plain": [
              "10"
            ]
          },
          "metadata": {},
          "execution_count": 36
        }
      ],
      "source": [
        "dim"
      ]
    },
    {
      "cell_type": "code",
      "execution_count": 37,
      "metadata": {
        "colab": {
          "base_uri": "https://localhost:8080/"
        },
        "id": "9Ny2lJYkAY_x",
        "outputId": "40e5310a-f66f-4926-a9ac-2dff9f244b7e"
      },
      "outputs": [
        {
          "output_type": "stream",
          "name": "stdout",
          "text": [
            "Model: \"model\"\n",
            "_________________________________________________________________\n",
            " Layer (type)                Output Shape              Param #   \n",
            "=================================================================\n",
            " input_1 (InputLayer)        [(None, 1, 10)]           0         \n",
            "                                                                 \n",
            " lstm (LSTM)                 (None, 2)                 104       \n",
            "                                                                 \n",
            " batch_normalization (BatchN  (None, 2)                8         \n",
            " ormalization)                                                   \n",
            "                                                                 \n",
            " dense (Dense)               (None, 8)                 24        \n",
            "                                                                 \n",
            " dense_1 (Dense)             (None, 4)                 36        \n",
            "                                                                 \n",
            " tf.nn.softmax (TFOpLambda)  (None, 4)                 0         \n",
            "                                                                 \n",
            "=================================================================\n",
            "Total params: 172\n",
            "Trainable params: 168\n",
            "Non-trainable params: 4\n",
            "_________________________________________________________________\n"
          ]
        }
      ],
      "source": [
        "model = model_dir.get_model(input_dim= dim,\n",
        "                      output_shape= output_shape,\n",
        "                      steps= 1)\n",
        "model.summary()"
      ]
    },
    {
      "cell_type": "code",
      "execution_count": 38,
      "metadata": {
        "colab": {
          "base_uri": "https://localhost:8080/"
        },
        "id": "_gG-JxYnAY_x",
        "outputId": "79e87754-07b0-45d4-aab6-27a85e3623c8"
      },
      "outputs": [
        {
          "output_type": "stream",
          "name": "stdout",
          "text": [
            "Epoch 1/10\n",
            "128/128 [==============================] - 4s 10ms/step - loss: 1.3752 - auc: 0.6108 - val_loss: 1.1976 - val_auc: 0.7886\n",
            "Epoch 2/10\n",
            "128/128 [==============================] - 1s 4ms/step - loss: 1.1747 - auc: 0.7643 - val_loss: 1.0760 - val_auc: 0.8034\n",
            "Epoch 3/10\n",
            "128/128 [==============================] - 1s 4ms/step - loss: 1.0935 - auc: 0.7821 - val_loss: 1.0262 - val_auc: 0.8095\n",
            "Epoch 4/10\n",
            "128/128 [==============================] - 1s 4ms/step - loss: 1.0741 - auc: 0.7861 - val_loss: 1.0155 - val_auc: 0.8094\n",
            "Epoch 5/10\n",
            "128/128 [==============================] - 1s 4ms/step - loss: 1.0708 - auc: 0.7869 - val_loss: 1.0141 - val_auc: 0.8121\n",
            "Epoch 6/10\n",
            "128/128 [==============================] - 1s 4ms/step - loss: 1.0694 - auc: 0.7880 - val_loss: 1.0129 - val_auc: 0.8132\n",
            "Epoch 7/10\n",
            "128/128 [==============================] - 0s 4ms/step - loss: 1.0695 - auc: 0.7883 - val_loss: 1.0124 - val_auc: 0.8128\n",
            "Epoch 8/10\n",
            "128/128 [==============================] - 1s 4ms/step - loss: 1.0684 - auc: 0.7888 - val_loss: 1.0116 - val_auc: 0.8126\n",
            "Epoch 9/10\n",
            "128/128 [==============================] - 0s 4ms/step - loss: 1.0691 - auc: 0.7886 - val_loss: 1.0119 - val_auc: 0.8120\n",
            "Epoch 10/10\n",
            "128/128 [==============================] - 0s 4ms/step - loss: 1.0694 - auc: 0.7881 - val_loss: 1.0110 - val_auc: 0.8129\n"
          ]
        }
      ],
      "source": [
        "history = model.fit(Xtrain0, ytrain_encoded, validation_split= 0.2, epochs= epochs)"
      ]
    },
    {
      "cell_type": "markdown",
      "metadata": {
        "id": "Ibwx-w7VAY_x"
      },
      "source": [
        "### Training Curves"
      ]
    },
    {
      "cell_type": "code",
      "execution_count": 39,
      "metadata": {
        "id": "f779f1bd"
      },
      "outputs": [],
      "source": [
        "auc = history.history['auc']\n",
        "val_auc = history.history['val_auc']\n",
        "\n",
        "loss = history.history['loss']\n",
        "val_loss = history.history['val_loss']\n",
        "\n",
        "epochs_range = range(epochs)"
      ]
    },
    {
      "cell_type": "code",
      "execution_count": 40,
      "metadata": {
        "colab": {
          "base_uri": "https://localhost:8080/",
          "height": 499
        },
        "id": "e9f0a2c6",
        "outputId": "3f34e899-eb8e-4399-9231-ddc59034e98d"
      },
      "outputs": [
        {
          "output_type": "display_data",
          "data": {
            "text/plain": [
              "<Figure size 1008x576 with 2 Axes>"
            ],
            "image/png": "[encoded data removed]"
          },
          "metadata": {
            "needs_background": "light"
          }
        }
      ],
      "source": [
        "plt.figure(figsize=(14, 8))\n",
        "plt.subplot(1, 2, 1)\n",
        "plt.plot(epochs_range, auc, label='Training AUC')\n",
        "plt.plot(epochs_range, val_auc, label='Validation AUC')\n",
        "plt.legend(loc='upper right')\n",
        "plt.title('Training and Validation AUC for LSTM at X=0')\n",
        "\n",
        "plt.subplot(1, 2, 2)\n",
        "plt.plot(epochs_range, loss, label='Training Loss')\n",
        "plt.plot(epochs_range, val_loss, label='Validation Loss')\n",
        "plt.legend(loc='upper right')\n",
        "plt.title('Training and Validation Loss for LSTM at X=0')\n",
        "plt.show()"
      ]
    },
    {
      "cell_type": "markdown",
      "metadata": {
        "id": "Xm0y0RptAY_y"
      },
      "source": [
        "### Training evaluation"
      ]
    },
    {
      "cell_type": "code",
      "execution_count": 41,
      "metadata": {
        "colab": {
          "base_uri": "https://localhost:8080/"
        },
        "id": "9cnO5tbtAY_y",
        "outputId": "e9217e8d-a764-4233-da60-14d9c4271d7e"
      },
      "outputs": [
        {
          "output_type": "stream",
          "name": "stdout",
          "text": [
            "              precision    recall  f1-score   support\n",
            "\n",
            "           1       0.56      1.00      0.72      2859\n",
            "           2       0.00      0.00      0.00      1497\n",
            "           3       0.00      0.00      0.00       426\n",
            "           4       0.00      0.00      0.00       308\n",
            "\n",
            "    accuracy                           0.56      5090\n",
            "   macro avg       0.14      0.25      0.18      5090\n",
            "weighted avg       0.32      0.56      0.40      5090\n",
            "\n"
          ]
        },
        {
          "output_type": "stream",
          "name": "stderr",
          "text": [
            "/usr/local/lib/python3.7/dist-packages/sklearn/metrics/_classification.py:1318: UndefinedMetricWarning: Precision and F-score are ill-defined and being set to 0.0 in labels with no predicted samples. Use `zero_division` parameter to control this behavior.\n",
            "  _warn_prf(average, modifier, msg_start, len(result))\n",
            "/usr/local/lib/python3.7/dist-packages/sklearn/metrics/_classification.py:1318: UndefinedMetricWarning: Precision and F-score are ill-defined and being set to 0.0 in labels with no predicted samples. Use `zero_division` parameter to control this behavior.\n",
            "  _warn_prf(average, modifier, msg_start, len(result))\n",
            "/usr/local/lib/python3.7/dist-packages/sklearn/metrics/_classification.py:1318: UndefinedMetricWarning: Precision and F-score are ill-defined and being set to 0.0 in labels with no predicted samples. Use `zero_division` parameter to control this behavior.\n",
            "  _warn_prf(average, modifier, msg_start, len(result))\n"
          ]
        }
      ],
      "source": [
        "prediction_train = y_encoder.inverse_transform(model.predict(Xtrain0))\n",
        "print(classification_report(train_data.act, prediction_train))"
      ]
    },
    {
      "cell_type": "markdown",
      "metadata": {
        "id": "BVBA_FwYAY_y"
      },
      "source": [
        "### Testing Evaluation"
      ]
    },
    {
      "cell_type": "code",
      "execution_count": 42,
      "metadata": {
        "colab": {
          "base_uri": "https://localhost:8080/"
        },
        "id": "Ls9wNnUrAY_y",
        "outputId": "066d0051-9ec3-4f39-ffc0-7dd3e55bd6ab"
      },
      "outputs": [
        {
          "output_type": "stream",
          "name": "stdout",
          "text": [
            "              precision    recall  f1-score   support\n",
            "\n",
            "           1       0.50      1.00      0.67       363\n",
            "           2       0.00      0.00      0.00       217\n",
            "           3       0.00      0.00      0.00        83\n",
            "           4       0.00      0.00      0.00        59\n",
            "\n",
            "    accuracy                           0.50       722\n",
            "   macro avg       0.13      0.25      0.17       722\n",
            "weighted avg       0.25      0.50      0.34       722\n",
            "\n"
          ]
        },
        {
          "output_type": "stream",
          "name": "stderr",
          "text": [
            "/usr/local/lib/python3.7/dist-packages/sklearn/metrics/_classification.py:1318: UndefinedMetricWarning: Precision and F-score are ill-defined and being set to 0.0 in labels with no predicted samples. Use `zero_division` parameter to control this behavior.\n",
            "  _warn_prf(average, modifier, msg_start, len(result))\n",
            "/usr/local/lib/python3.7/dist-packages/sklearn/metrics/_classification.py:1318: UndefinedMetricWarning: Precision and F-score are ill-defined and being set to 0.0 in labels with no predicted samples. Use `zero_division` parameter to control this behavior.\n",
            "  _warn_prf(average, modifier, msg_start, len(result))\n",
            "/usr/local/lib/python3.7/dist-packages/sklearn/metrics/_classification.py:1318: UndefinedMetricWarning: Precision and F-score are ill-defined and being set to 0.0 in labels with no predicted samples. Use `zero_division` parameter to control this behavior.\n",
            "  _warn_prf(average, modifier, msg_start, len(result))\n"
          ]
        }
      ],
      "source": [
        "prediction_test= y_encoder.inverse_transform(model.predict(Xtest0))\n",
        "print(classification_report(test_data.act, prediction_test))"
      ]
    },
    {
      "cell_type": "code",
      "source": [
        "model.save(\"X0\")\n",
        "!zip -r /content/X0.zip /content/X0\n",
        "from google.colab import files\n",
        "files.download('/content/X0.zip')"
      ],
      "metadata": {
        "colab": {
          "base_uri": "https://localhost:8080/",
          "height": 233
        },
        "id": "qaZcDLaLEPrr",
        "outputId": "87078438-76d1-41b0-8441-1f87007b7dd4"
      },
      "execution_count": 43,
      "outputs": [
        {
          "output_type": "stream",
          "name": "stderr",
          "text": [
            "WARNING:absl:Found untraced functions such as lstm_cell_layer_call_fn, lstm_cell_layer_call_and_return_conditional_losses while saving (showing 2 of 2). These functions will not be directly callable after loading.\n"
          ]
        },
        {
          "output_type": "stream",
          "name": "stdout",
          "text": [
            "INFO:tensorflow:Assets written to: X0/assets\n"
          ]
        },
        {
          "output_type": "stream",
          "name": "stderr",
          "text": [
            "INFO:tensorflow:Assets written to: X0/assets\n",
            "WARNING:absl:<keras.layers.recurrent.LSTMCell object at 0x7f572641fd50> has the same name 'LSTMCell' as a built-in Keras object. Consider renaming <class 'keras.layers.recurrent.LSTMCell'> to avoid naming conflicts when loading with `tf.keras.models.load_model`. If renaming is not possible, pass the object in the `custom_objects` parameter of the load function.\n"
          ]
        },
        {
          "output_type": "stream",
          "name": "stdout",
          "text": [
            "  adding: content/X0/ (stored 0%)\n",
            "  adding: content/X0/assets/ (stored 0%)\n",
            "  adding: content/X0/keras_metadata.pb (deflated 88%)\n",
            "  adding: content/X0/variables/ (stored 0%)\n",
            "  adding: content/X0/variables/variables.data-00000-of-00001 (deflated 70%)\n",
            "  adding: content/X0/variables/variables.index (deflated 65%)\n",
            "  adding: content/X0/saved_model.pb (deflated 89%)\n"
          ]
        },
        {
          "output_type": "display_data",
          "data": {
            "text/plain": [
              "<IPython.core.display.Javascript object>"
            ],
            "application/javascript": [
              "\n",
              "    async function download(id, filename, size) {\n",
              "      if (!google.colab.kernel.accessAllowed) {\n",
              "        return;\n",
              "      }\n",
              "      const div = document.createElement('div');\n",
              "      const label = document.createElement('label');\n",
              "      label.textContent = `Downloading \"${filename}\": `;\n",
              "      div.appendChild(label);\n",
              "      const progress = document.createElement('progress');\n",
              "      progress.max = size;\n",
              "      div.appendChild(progress);\n",
              "      document.body.appendChild(div);\n",
              "\n",
              "      const buffers = [];\n",
              "      let downloaded = 0;\n",
              "\n",
              "      const channel = await google.colab.kernel.comms.open(id);\n",
              "      // Send a message to notify the kernel that we're ready.\n",
              "      channel.send({})\n",
              "\n",
              "      for await (const message of channel.messages) {\n",
              "        // Send a message to notify the kernel that we're ready.\n",
              "        channel.send({})\n",
              "        if (message.buffers) {\n",
              "          for (const buffer of message.buffers) {\n",
              "            buffers.push(buffer);\n",
              "            downloaded += buffer.byteLength;\n",
              "            progress.value = downloaded;\n",
              "          }\n",
              "        }\n",
              "      }\n",
              "      const blob = new Blob(buffers, {type: 'application/binary'});\n",
              "      const a = document.createElement('a');\n",
              "      a.href = window.URL.createObjectURL(blob);\n",
              "      a.download = filename;\n",
              "      div.appendChild(a);\n",
              "      a.click();\n",
              "      div.remove();\n",
              "    }\n",
              "  "
            ]
          },
          "metadata": {}
        },
        {
          "output_type": "display_data",
          "data": {
            "text/plain": [
              "<IPython.core.display.Javascript object>"
            ],
            "application/javascript": [
              "download(\"download_b45662a0-35b5-4a4e-ae74-efacc2c3f50e\", \"X0.zip\", 95735)"
            ]
          },
          "metadata": {}
        }
      ]
    },
    {
      "cell_type": "markdown",
      "metadata": {
        "id": "5HaPGYfuAY_y"
      },
      "source": [
        "## Part 3.2: Train for X=1\n"
      ]
    },
    {
      "cell_type": "code",
      "execution_count": 44,
      "metadata": {
        "colab": {
          "base_uri": "https://localhost:8080/"
        },
        "id": "Scdn7FCDAY_y",
        "outputId": "2699ff72-dfb1-4140-da45-2f855e8b335f"
      },
      "outputs": [
        {
          "output_type": "execute_result",
          "data": {
            "text/plain": [
              "((5090, 1, 3675), (722, 1, 3675))"
            ]
          },
          "metadata": {},
          "execution_count": 44
        }
      ],
      "source": [
        "Xtrain1 = transform_x(train_padded, tokenizer, x=1)\n",
        "Xtest1 = transform_x(test_padded, tokenizer, x=1)\n",
        "\n",
        "Xtrain1.shape , Xtest1.shape"
      ]
    },
    {
      "cell_type": "code",
      "execution_count": 45,
      "metadata": {
        "id": "ViH1ffv3AY_y"
      },
      "outputs": [],
      "source": [
        "steps = Xtrain1.shape[1]\n",
        "dim = Xtrain1.shape[2]\n",
        "output_shape = ytrain_encoded.shape[1]\n",
        "epochs = 10"
      ]
    },
    {
      "cell_type": "code",
      "execution_count": 46,
      "metadata": {
        "colab": {
          "base_uri": "https://localhost:8080/"
        },
        "id": "oeSzT3TGAY_y",
        "outputId": "949bd18c-4bbd-4ac9-c4b2-4176e231bb33"
      },
      "outputs": [
        {
          "output_type": "stream",
          "name": "stdout",
          "text": [
            "Model: \"model_1\"\n",
            "_________________________________________________________________\n",
            " Layer (type)                Output Shape              Param #   \n",
            "=================================================================\n",
            " input_2 (InputLayer)        [(None, 1, 3675)]         0         \n",
            "                                                                 \n",
            " lstm_1 (LSTM)               (None, 2)                 29424     \n",
            "                                                                 \n",
            " batch_normalization_1 (Batc  (None, 2)                8         \n",
            " hNormalization)                                                 \n",
            "                                                                 \n",
            " dense_2 (Dense)             (None, 8)                 24        \n",
            "                                                                 \n",
            " dense_3 (Dense)             (None, 4)                 36        \n",
            "                                                                 \n",
            " tf.nn.softmax_1 (TFOpLambda  (None, 4)                0         \n",
            " )                                                               \n",
            "                                                                 \n",
            "=================================================================\n",
            "Total params: 29,492\n",
            "Trainable params: 29,488\n",
            "Non-trainable params: 4\n",
            "_________________________________________________________________\n"
          ]
        }
      ],
      "source": [
        "model = model_dir.get_model(input_dim= dim,\n",
        "                             output_shape= output_shape,\n",
        "                             steps=steps)\n",
        "model.summary()"
      ]
    },
    {
      "cell_type": "code",
      "execution_count": 47,
      "metadata": {
        "colab": {
          "base_uri": "https://localhost:8080/"
        },
        "id": "dI3ls3m0AY_y",
        "outputId": "1e2a1b95-a022-4197-d85f-a9751864d6c9"
      },
      "outputs": [
        {
          "output_type": "stream",
          "name": "stdout",
          "text": [
            "Epoch 1/10\n",
            "128/128 [==============================] - 4s 11ms/step - loss: 1.1137 - auc: 0.7859 - val_loss: 1.0167 - val_auc: 0.8116\n",
            "Epoch 2/10\n",
            "128/128 [==============================] - 1s 5ms/step - loss: 1.0458 - auc: 0.7941 - val_loss: 1.0107 - val_auc: 0.8120\n",
            "Epoch 3/10\n",
            "128/128 [==============================] - 1s 5ms/step - loss: 1.0306 - auc: 0.8008 - val_loss: 1.0105 - val_auc: 0.8115\n",
            "Epoch 4/10\n",
            "128/128 [==============================] - 1s 5ms/step - loss: 1.0229 - auc: 0.8017 - val_loss: 1.0143 - val_auc: 0.8117\n",
            "Epoch 5/10\n",
            "128/128 [==============================] - 1s 5ms/step - loss: 1.0172 - auc: 0.8049 - val_loss: 1.0173 - val_auc: 0.8110\n",
            "Epoch 6/10\n",
            "128/128 [==============================] - 1s 6ms/step - loss: 1.0121 - auc: 0.8058 - val_loss: 1.0312 - val_auc: 0.8076\n",
            "Epoch 7/10\n",
            "128/128 [==============================] - 1s 5ms/step - loss: 1.0085 - auc: 0.8074 - val_loss: 1.0226 - val_auc: 0.8061\n",
            "Epoch 8/10\n",
            "128/128 [==============================] - 1s 6ms/step - loss: 1.0033 - auc: 0.8103 - val_loss: 1.0306 - val_auc: 0.8036\n",
            "Epoch 9/10\n",
            "128/128 [==============================] - 1s 6ms/step - loss: 1.0029 - auc: 0.8099 - val_loss: 1.0376 - val_auc: 0.8031\n",
            "Epoch 10/10\n",
            "128/128 [==============================] - 1s 6ms/step - loss: 0.9982 - auc: 0.8126 - val_loss: 1.0455 - val_auc: 0.8048\n"
          ]
        }
      ],
      "source": [
        "history = model.fit(Xtrain1, ytrain_encoded, validation_split= 0.2, epochs= epochs)"
      ]
    },
    {
      "cell_type": "markdown",
      "metadata": {
        "id": "dH5e2ABMAY_y"
      },
      "source": [
        "### Training Curves"
      ]
    },
    {
      "cell_type": "code",
      "execution_count": 48,
      "metadata": {
        "id": "s9TicXL7AY_z"
      },
      "outputs": [],
      "source": [
        "auc = history.history['auc']\n",
        "val_auc = history.history['val_auc']\n",
        "\n",
        "loss = history.history['loss']\n",
        "val_loss = history.history['val_loss']\n",
        "\n",
        "epochs_range = range(epochs)"
      ]
    },
    {
      "cell_type": "code",
      "execution_count": 49,
      "metadata": {
        "colab": {
          "base_uri": "https://localhost:8080/",
          "height": 499
        },
        "id": "yi4vW9KiAY_z",
        "outputId": "8b0c9afe-fa0f-4837-897d-3bed5a1da91b"
      },
      "outputs": [
        {
          "output_type": "display_data",
          "data": {
            "text/plain": [
              "<Figure size 1008x576 with 2 Axes>"
            ],
            "image/png": "[encoded data removed]"
          },
          "metadata": {
            "needs_background": "light"
          }
        }
      ],
      "source": [
        "plt.figure(figsize=(14, 8))\n",
        "plt.subplot(1, 2, 1)\n",
        "plt.plot(epochs_range, auc, label='Training AUC')\n",
        "plt.plot(epochs_range, val_auc, label='Validation AUC')\n",
        "plt.legend(loc='upper right')\n",
        "plt.title('Training and Validation AUC for LSTM at X=1')\n",
        "\n",
        "plt.subplot(1, 2, 2)\n",
        "plt.plot(epochs_range, loss, label='Training Loss')\n",
        "plt.plot(epochs_range, val_loss, label='Validation Loss')\n",
        "plt.legend(loc='upper right')\n",
        "plt.title('Training and Validation Loss for LSTM at X=1')\n",
        "plt.show()"
      ]
    },
    {
      "cell_type": "markdown",
      "metadata": {
        "id": "MAtz0O1LAY_z"
      },
      "source": [
        "### Training evaluation"
      ]
    },
    {
      "cell_type": "code",
      "execution_count": 50,
      "metadata": {
        "colab": {
          "base_uri": "https://localhost:8080/"
        },
        "id": "mtZXSaIlAY_z",
        "outputId": "9c51a402-9154-4baa-b5f7-1f396492104c"
      },
      "outputs": [
        {
          "output_type": "stream",
          "name": "stdout",
          "text": [
            "              precision    recall  f1-score   support\n",
            "\n",
            "           1       0.57      0.99      0.72      2859\n",
            "           2       0.74      0.02      0.05      1497\n",
            "           3       0.58      0.10      0.18       426\n",
            "           4       0.00      0.00      0.00       308\n",
            "\n",
            "    accuracy                           0.57      5090\n",
            "   macro avg       0.47      0.28      0.24      5090\n",
            "weighted avg       0.59      0.57      0.43      5090\n",
            "\n"
          ]
        },
        {
          "output_type": "stream",
          "name": "stderr",
          "text": [
            "/usr/local/lib/python3.7/dist-packages/sklearn/metrics/_classification.py:1318: UndefinedMetricWarning: Precision and F-score are ill-defined and being set to 0.0 in labels with no predicted samples. Use `zero_division` parameter to control this behavior.\n",
            "  _warn_prf(average, modifier, msg_start, len(result))\n",
            "/usr/local/lib/python3.7/dist-packages/sklearn/metrics/_classification.py:1318: UndefinedMetricWarning: Precision and F-score are ill-defined and being set to 0.0 in labels with no predicted samples. Use `zero_division` parameter to control this behavior.\n",
            "  _warn_prf(average, modifier, msg_start, len(result))\n",
            "/usr/local/lib/python3.7/dist-packages/sklearn/metrics/_classification.py:1318: UndefinedMetricWarning: Precision and F-score are ill-defined and being set to 0.0 in labels with no predicted samples. Use `zero_division` parameter to control this behavior.\n",
            "  _warn_prf(average, modifier, msg_start, len(result))\n"
          ]
        }
      ],
      "source": [
        "prediction_train = y_encoder.inverse_transform(model.predict(Xtrain1))\n",
        "print(classification_report(train_data.act, prediction_train))"
      ]
    },
    {
      "cell_type": "markdown",
      "metadata": {
        "id": "sHp7kHhuAY_z"
      },
      "source": [
        "### Testing Evaluation"
      ]
    },
    {
      "cell_type": "code",
      "execution_count": 51,
      "metadata": {
        "colab": {
          "base_uri": "https://localhost:8080/"
        },
        "id": "1VGA9Fh5AY_z",
        "outputId": "715d51e6-202e-4274-a8de-1650ddf2f330"
      },
      "outputs": [
        {
          "output_type": "stream",
          "name": "stdout",
          "text": [
            "              precision    recall  f1-score   support\n",
            "\n",
            "           1       0.50      0.99      0.66       363\n",
            "           2       0.00      0.00      0.00       217\n",
            "           3       0.00      0.00      0.00        83\n",
            "           4       0.00      0.00      0.00        59\n",
            "\n",
            "    accuracy                           0.50       722\n",
            "   macro avg       0.12      0.25      0.17       722\n",
            "weighted avg       0.25      0.50      0.33       722\n",
            "\n"
          ]
        },
        {
          "output_type": "stream",
          "name": "stderr",
          "text": [
            "/usr/local/lib/python3.7/dist-packages/sklearn/metrics/_classification.py:1318: UndefinedMetricWarning: Precision and F-score are ill-defined and being set to 0.0 in labels with no predicted samples. Use `zero_division` parameter to control this behavior.\n",
            "  _warn_prf(average, modifier, msg_start, len(result))\n",
            "/usr/local/lib/python3.7/dist-packages/sklearn/metrics/_classification.py:1318: UndefinedMetricWarning: Precision and F-score are ill-defined and being set to 0.0 in labels with no predicted samples. Use `zero_division` parameter to control this behavior.\n",
            "  _warn_prf(average, modifier, msg_start, len(result))\n",
            "/usr/local/lib/python3.7/dist-packages/sklearn/metrics/_classification.py:1318: UndefinedMetricWarning: Precision and F-score are ill-defined and being set to 0.0 in labels with no predicted samples. Use `zero_division` parameter to control this behavior.\n",
            "  _warn_prf(average, modifier, msg_start, len(result))\n"
          ]
        }
      ],
      "source": [
        "prediction_test = y_encoder.inverse_transform(model.predict(Xtest1))\n",
        "print(classification_report(test_data.act, prediction_test))"
      ]
    },
    {
      "cell_type": "code",
      "source": [
        "model.save(\"X1\")\n",
        "!zip -r /content/X1.zip /content/X1\n",
        "from google.colab import files\n",
        "files.download('/content/X1.zip')"
      ],
      "metadata": {
        "colab": {
          "base_uri": "https://localhost:8080/",
          "height": 233
        },
        "id": "ul_Y6Kg5GDqy",
        "outputId": "92e7dd63-71b9-4ebc-94fe-79653f2e66e7"
      },
      "execution_count": 52,
      "outputs": [
        {
          "output_type": "stream",
          "name": "stderr",
          "text": [
            "WARNING:absl:Found untraced functions such as lstm_cell_1_layer_call_fn, lstm_cell_1_layer_call_and_return_conditional_losses while saving (showing 2 of 2). These functions will not be directly callable after loading.\n"
          ]
        },
        {
          "output_type": "stream",
          "name": "stdout",
          "text": [
            "INFO:tensorflow:Assets written to: X1/assets\n"
          ]
        },
        {
          "output_type": "stream",
          "name": "stderr",
          "text": [
            "INFO:tensorflow:Assets written to: X1/assets\n",
            "WARNING:absl:<keras.layers.recurrent.LSTMCell object at 0x7f5721ffc610> has the same name 'LSTMCell' as a built-in Keras object. Consider renaming <class 'keras.layers.recurrent.LSTMCell'> to avoid naming conflicts when loading with `tf.keras.models.load_model`. If renaming is not possible, pass the object in the `custom_objects` parameter of the load function.\n"
          ]
        },
        {
          "output_type": "stream",
          "name": "stdout",
          "text": [
            "  adding: content/X1/ (stored 0%)\n",
            "  adding: content/X1/assets/ (stored 0%)\n",
            "  adding: content/X1/keras_metadata.pb (deflated 88%)\n",
            "  adding: content/X1/variables/ (stored 0%)\n",
            "  adding: content/X1/variables/variables.data-00000-of-00001 (deflated 64%)\n",
            "  adding: content/X1/variables/variables.index (deflated 64%)\n",
            "  adding: content/X1/saved_model.pb (deflated 89%)\n"
          ]
        },
        {
          "output_type": "display_data",
          "data": {
            "text/plain": [
              "<IPython.core.display.Javascript object>"
            ],
            "application/javascript": [
              "\n",
              "    async function download(id, filename, size) {\n",
              "      if (!google.colab.kernel.accessAllowed) {\n",
              "        return;\n",
              "      }\n",
              "      const div = document.createElement('div');\n",
              "      const label = document.createElement('label');\n",
              "      label.textContent = `Downloading \"${filename}\": `;\n",
              "      div.appendChild(label);\n",
              "      const progress = document.createElement('progress');\n",
              "      progress.max = size;\n",
              "      div.appendChild(progress);\n",
              "      document.body.appendChild(div);\n",
              "\n",
              "      const buffers = [];\n",
              "      let downloaded = 0;\n",
              "\n",
              "      const channel = await google.colab.kernel.comms.open(id);\n",
              "      // Send a message to notify the kernel that we're ready.\n",
              "      channel.send({})\n",
              "\n",
              "      for await (const message of channel.messages) {\n",
              "        // Send a message to notify the kernel that we're ready.\n",
              "        channel.send({})\n",
              "        if (message.buffers) {\n",
              "          for (const buffer of message.buffers) {\n",
              "            buffers.push(buffer);\n",
              "            downloaded += buffer.byteLength;\n",
              "            progress.value = downloaded;\n",
              "          }\n",
              "        }\n",
              "      }\n",
              "      const blob = new Blob(buffers, {type: 'application/binary'});\n",
              "      const a = document.createElement('a');\n",
              "      a.href = window.URL.createObjectURL(blob);\n",
              "      a.download = filename;\n",
              "      div.appendChild(a);\n",
              "      a.click();\n",
              "      div.remove();\n",
              "    }\n",
              "  "
            ]
          },
          "metadata": {}
        },
        {
          "output_type": "display_data",
          "data": {
            "text/plain": [
              "<IPython.core.display.Javascript object>"
            ],
            "application/javascript": [
              "download(\"download_f5d89384-5d8a-45a3-aaae-67a941541efa\", \"X1.zip\", 223553)"
            ]
          },
          "metadata": {}
        }
      ]
    },
    {
      "cell_type": "markdown",
      "metadata": {
        "id": "13kveTXLAY_z"
      },
      "source": [
        "## Part 3.3: Train for X=2\n"
      ]
    },
    {
      "cell_type": "code",
      "execution_count": 53,
      "metadata": {
        "colab": {
          "base_uri": "https://localhost:8080/"
        },
        "id": "9XOH49vRAY_z",
        "outputId": "5792c98e-4f2e-4dc0-a471-b6b6c1898fc8"
      },
      "outputs": [
        {
          "output_type": "execute_result",
          "data": {
            "text/plain": [
              "((5090, 2, 3675), (722, 2, 3675))"
            ]
          },
          "metadata": {},
          "execution_count": 53
        }
      ],
      "source": [
        "Xtrain2 = transform_x(train_padded, tokenizer, x=2)\n",
        "Xtest2 = transform_x(test_padded, tokenizer, x=2)\n",
        "\n",
        "Xtrain2.shape , Xtest2.shape"
      ]
    },
    {
      "cell_type": "code",
      "execution_count": 54,
      "metadata": {
        "id": "M481UDWwAY_z"
      },
      "outputs": [],
      "source": [
        "steps = Xtrain2.shape[1]\n",
        "dim = Xtrain2.shape[2]\n",
        "output_shape = ytrain_encoded.shape[1]\n",
        "epochs = 10"
      ]
    },
    {
      "cell_type": "code",
      "execution_count": 55,
      "metadata": {
        "colab": {
          "base_uri": "https://localhost:8080/"
        },
        "id": "ynkbrC0kAY_z",
        "outputId": "db9cd91a-fd62-4e7f-8e1f-f70e8c3572ea"
      },
      "outputs": [
        {
          "output_type": "stream",
          "name": "stdout",
          "text": [
            "Model: \"model_2\"\n",
            "_________________________________________________________________\n",
            " Layer (type)                Output Shape              Param #   \n",
            "=================================================================\n",
            " input_3 (InputLayer)        [(None, 2, 3675)]         0         \n",
            "                                                                 \n",
            " lstm_2 (LSTM)               (None, 3)                 44148     \n",
            "                                                                 \n",
            " batch_normalization_2 (Batc  (None, 3)                12        \n",
            " hNormalization)                                                 \n",
            "                                                                 \n",
            " dense_4 (Dense)             (None, 8)                 32        \n",
            "                                                                 \n",
            " dense_5 (Dense)             (None, 4)                 36        \n",
            "                                                                 \n",
            " tf.nn.softmax_2 (TFOpLambda  (None, 4)                0         \n",
            " )                                                               \n",
            "                                                                 \n",
            "=================================================================\n",
            "Total params: 44,228\n",
            "Trainable params: 44,222\n",
            "Non-trainable params: 6\n",
            "_________________________________________________________________\n"
          ]
        }
      ],
      "source": [
        "model = model_dir.get_model(input_dim= dim,\n",
        "                      output_shape= output_shape,\n",
        "                      steps= steps)\n",
        "model.summary()"
      ]
    },
    {
      "cell_type": "code",
      "execution_count": 56,
      "metadata": {
        "colab": {
          "base_uri": "https://localhost:8080/"
        },
        "id": "yo1Xac3WAY_z",
        "outputId": "a3741e4d-4bc1-4edc-bc72-fb54b4c23839"
      },
      "outputs": [
        {
          "output_type": "stream",
          "name": "stdout",
          "text": [
            "Epoch 1/10\n",
            "128/128 [==============================] - 4s 12ms/step - loss: 1.1021 - auc: 0.7836 - val_loss: 1.0114 - val_auc: 0.8150\n",
            "Epoch 2/10\n",
            "128/128 [==============================] - 1s 8ms/step - loss: 1.0214 - auc: 0.8041 - val_loss: 1.0069 - val_auc: 0.8149\n",
            "Epoch 3/10\n",
            "128/128 [==============================] - 1s 7ms/step - loss: 0.9950 - auc: 0.8114 - val_loss: 1.0200 - val_auc: 0.8131\n",
            "Epoch 4/10\n",
            "128/128 [==============================] - 1s 7ms/step - loss: 0.9791 - auc: 0.8162 - val_loss: 1.0440 - val_auc: 0.8106\n",
            "Epoch 5/10\n",
            "128/128 [==============================] - 1s 7ms/step - loss: 0.9652 - auc: 0.8230 - val_loss: 1.1510 - val_auc: 0.7413\n",
            "Epoch 6/10\n",
            "128/128 [==============================] - 1s 7ms/step - loss: 0.9573 - auc: 0.8260 - val_loss: 1.1300 - val_auc: 0.7935\n",
            "Epoch 7/10\n",
            "128/128 [==============================] - 1s 7ms/step - loss: 0.9505 - auc: 0.8277 - val_loss: 1.1754 - val_auc: 0.7637\n",
            "Epoch 8/10\n",
            "128/128 [==============================] - 1s 7ms/step - loss: 0.9484 - auc: 0.8278 - val_loss: 1.1401 - val_auc: 0.7885\n",
            "Epoch 9/10\n",
            "128/128 [==============================] - 1s 7ms/step - loss: 0.9438 - auc: 0.8308 - val_loss: 1.1285 - val_auc: 0.7898\n",
            "Epoch 10/10\n",
            "128/128 [==============================] - 1s 7ms/step - loss: 0.9393 - auc: 0.8323 - val_loss: 1.1194 - val_auc: 0.7877\n"
          ]
        }
      ],
      "source": [
        "history = model.fit(Xtrain2, ytrain_encoded, validation_split= 0.2, epochs= epochs)"
      ]
    },
    {
      "cell_type": "markdown",
      "metadata": {
        "id": "GCh0WqpdAY_0"
      },
      "source": [
        "### Training Curves"
      ]
    },
    {
      "cell_type": "code",
      "execution_count": 57,
      "metadata": {
        "id": "DaZbedGNAY_0"
      },
      "outputs": [],
      "source": [
        "auc = history.history['auc']\n",
        "val_auc = history.history['val_auc']\n",
        "\n",
        "loss = history.history['loss']\n",
        "val_loss = history.history['val_loss']\n",
        "\n",
        "epochs_range = range(epochs)"
      ]
    },
    {
      "cell_type": "code",
      "execution_count": 58,
      "metadata": {
        "colab": {
          "base_uri": "https://localhost:8080/",
          "height": 499
        },
        "id": "i7jW42fBAY_0",
        "outputId": "3fb15225-e179-4150-a56f-46b6d2ca52d4"
      },
      "outputs": [
        {
          "output_type": "display_data",
          "data": {
            "text/plain": [
              "<Figure size 1008x576 with 2 Axes>"
            ],
            "image/png": "[encoded data removed]"
          },
          "metadata": {
            "needs_background": "light"
          }
        }
      ],
      "source": [
        "plt.figure(figsize=(14, 8))\n",
        "plt.subplot(1, 2, 1)\n",
        "plt.plot(epochs_range, auc, label='Training AUC')\n",
        "plt.plot(epochs_range, val_auc, label='Validation AUC')\n",
        "plt.legend(loc='upper right')\n",
        "plt.title('Training and Validation AUC for LSTM at X=2')\n",
        "\n",
        "plt.subplot(1, 2, 2)\n",
        "plt.plot(epochs_range, loss, label='Training Loss')\n",
        "plt.plot(epochs_range, val_loss, label='Validation Loss')\n",
        "plt.legend(loc='upper right')\n",
        "plt.title('Training and Validation Loss for LSTM at X=2')\n",
        "plt.show()"
      ]
    },
    {
      "cell_type": "markdown",
      "metadata": {
        "id": "d_P_6cLzAY_0"
      },
      "source": [
        "### Training evaluation"
      ]
    },
    {
      "cell_type": "code",
      "execution_count": 59,
      "metadata": {
        "colab": {
          "base_uri": "https://localhost:8080/"
        },
        "id": "AT8tLoZ1AY_0",
        "outputId": "17350212-8e8a-44b4-fe68-cf74be519456"
      },
      "outputs": [
        {
          "output_type": "stream",
          "name": "stdout",
          "text": [
            "              precision    recall  f1-score   support\n",
            "\n",
            "           1       0.58      0.99      0.73      2859\n",
            "           2       0.90      0.05      0.09      1497\n",
            "           3       0.73      0.19      0.30       426\n",
            "           4       0.85      0.07      0.13       308\n",
            "\n",
            "    accuracy                           0.59      5090\n",
            "   macro avg       0.76      0.33      0.31      5090\n",
            "weighted avg       0.70      0.59      0.47      5090\n",
            "\n"
          ]
        }
      ],
      "source": [
        "prediction_train = y_encoder.inverse_transform(model.predict(Xtrain2))\n",
        "print(classification_report(train_data.act, prediction_train))"
      ]
    },
    {
      "cell_type": "markdown",
      "metadata": {
        "id": "bOSp9-rnAY_0"
      },
      "source": [
        "### Testing Evaluation"
      ]
    },
    {
      "cell_type": "code",
      "execution_count": 60,
      "metadata": {
        "colab": {
          "base_uri": "https://localhost:8080/"
        },
        "id": "6qk3DXRCAY_0",
        "outputId": "b76eaa2b-ee38-4fdb-97a0-372cbb733c77"
      },
      "outputs": [
        {
          "output_type": "stream",
          "name": "stdout",
          "text": [
            "              precision    recall  f1-score   support\n",
            "\n",
            "           1       0.50      0.96      0.66       363\n",
            "           2       0.43      0.01      0.03       217\n",
            "           3       0.14      0.02      0.04        83\n",
            "           4       0.00      0.00      0.00        59\n",
            "\n",
            "    accuracy                           0.49       722\n",
            "   macro avg       0.27      0.25      0.18       722\n",
            "weighted avg       0.40      0.49      0.34       722\n",
            "\n"
          ]
        }
      ],
      "source": [
        "prediction_test = y_encoder.inverse_transform(model.predict(Xtest2))\n",
        "print(classification_report(test_data.act, prediction_test))"
      ]
    },
    {
      "cell_type": "code",
      "source": [
        "model.save(\"X2\")\n",
        "!zip -r /content/X2.zip /content/X2\n",
        "from google.colab import files\n",
        "files.download('/content/X2.zip')"
      ],
      "metadata": {
        "colab": {
          "base_uri": "https://localhost:8080/",
          "height": 233
        },
        "id": "kOMHqT09GI09",
        "outputId": "28739e05-620f-49c9-e76e-4ad2d6368bca"
      },
      "execution_count": 61,
      "outputs": [
        {
          "output_type": "stream",
          "name": "stderr",
          "text": [
            "WARNING:absl:Found untraced functions such as lstm_cell_2_layer_call_fn, lstm_cell_2_layer_call_and_return_conditional_losses while saving (showing 2 of 2). These functions will not be directly callable after loading.\n"
          ]
        },
        {
          "output_type": "stream",
          "name": "stdout",
          "text": [
            "INFO:tensorflow:Assets written to: X2/assets\n"
          ]
        },
        {
          "output_type": "stream",
          "name": "stderr",
          "text": [
            "INFO:tensorflow:Assets written to: X2/assets\n",
            "WARNING:absl:<keras.layers.recurrent.LSTMCell object at 0x7f571eeb08d0> has the same name 'LSTMCell' as a built-in Keras object. Consider renaming <class 'keras.layers.recurrent.LSTMCell'> to avoid naming conflicts when loading with `tf.keras.models.load_model`. If renaming is not possible, pass the object in the `custom_objects` parameter of the load function.\n"
          ]
        },
        {
          "output_type": "stream",
          "name": "stdout",
          "text": [
            "  adding: content/X2/ (stored 0%)\n",
            "  adding: content/X2/assets/ (stored 0%)\n",
            "  adding: content/X2/keras_metadata.pb (deflated 88%)\n",
            "  adding: content/X2/variables/ (stored 0%)\n",
            "  adding: content/X2/variables/variables.data-00000-of-00001 (deflated 58%)\n",
            "  adding: content/X2/variables/variables.index (deflated 63%)\n",
            "  adding: content/X2/saved_model.pb (deflated 89%)\n"
          ]
        },
        {
          "output_type": "display_data",
          "data": {
            "text/plain": [
              "<IPython.core.display.Javascript object>"
            ],
            "application/javascript": [
              "\n",
              "    async function download(id, filename, size) {\n",
              "      if (!google.colab.kernel.accessAllowed) {\n",
              "        return;\n",
              "      }\n",
              "      const div = document.createElement('div');\n",
              "      const label = document.createElement('label');\n",
              "      label.textContent = `Downloading \"${filename}\": `;\n",
              "      div.appendChild(label);\n",
              "      const progress = document.createElement('progress');\n",
              "      progress.max = size;\n",
              "      div.appendChild(progress);\n",
              "      document.body.appendChild(div);\n",
              "\n",
              "      const buffers = [];\n",
              "      let downloaded = 0;\n",
              "\n",
              "      const channel = await google.colab.kernel.comms.open(id);\n",
              "      // Send a message to notify the kernel that we're ready.\n",
              "      channel.send({})\n",
              "\n",
              "      for await (const message of channel.messages) {\n",
              "        // Send a message to notify the kernel that we're ready.\n",
              "        channel.send({})\n",
              "        if (message.buffers) {\n",
              "          for (const buffer of message.buffers) {\n",
              "            buffers.push(buffer);\n",
              "            downloaded += buffer.byteLength;\n",
              "            progress.value = downloaded;\n",
              "          }\n",
              "        }\n",
              "      }\n",
              "      const blob = new Blob(buffers, {type: 'application/binary'});\n",
              "      const a = document.createElement('a');\n",
              "      a.href = window.URL.createObjectURL(blob);\n",
              "      a.download = filename;\n",
              "      div.appendChild(a);\n",
              "      a.click();\n",
              "      div.remove();\n",
              "    }\n",
              "  "
            ]
          },
          "metadata": {}
        },
        {
          "output_type": "display_data",
          "data": {
            "text/plain": [
              "<IPython.core.display.Javascript object>"
            ],
            "application/javascript": [
              "download(\"download_33ffb42e-f4ac-4517-9e8a-37bf524df268\", \"X2.zip\", 320573)"
            ]
          },
          "metadata": {}
        }
      ]
    },
    {
      "cell_type": "markdown",
      "metadata": {
        "id": "PLnJcnyoAY_0"
      },
      "source": [
        "## Part 3.4: Train for X=3\n"
      ]
    },
    {
      "cell_type": "code",
      "execution_count": 62,
      "metadata": {
        "colab": {
          "base_uri": "https://localhost:8080/"
        },
        "id": "YNpSQRX6AY_0",
        "outputId": "469ecce0-a1df-4e30-c4c8-2ab146b5a4f5"
      },
      "outputs": [
        {
          "output_type": "execute_result",
          "data": {
            "text/plain": [
              "((5090, 3, 3675), (722, 3, 3675))"
            ]
          },
          "metadata": {},
          "execution_count": 62
        }
      ],
      "source": [
        "Xtrain3 = transform_x(train_padded, tokenizer, x=3)\n",
        "Xtest3 = transform_x(test_padded, tokenizer, x=3)\n",
        "\n",
        "Xtrain3.shape , Xtest3.shape"
      ]
    },
    {
      "cell_type": "code",
      "execution_count": 63,
      "metadata": {
        "id": "VFACfjUYAY_0"
      },
      "outputs": [],
      "source": [
        "steps = Xtrain3.shape[1]\n",
        "dim = Xtrain3.shape[2]\n",
        "output_shape = ytrain_encoded.shape[1]\n",
        "epochs = 10"
      ]
    },
    {
      "cell_type": "code",
      "execution_count": 64,
      "metadata": {
        "colab": {
          "base_uri": "https://localhost:8080/"
        },
        "id": "hwo-wsiAAY_0",
        "outputId": "c72300eb-e331-4c21-83e6-084d1408b97f"
      },
      "outputs": [
        {
          "output_type": "stream",
          "name": "stdout",
          "text": [
            "Model: \"model_3\"\n",
            "_________________________________________________________________\n",
            " Layer (type)                Output Shape              Param #   \n",
            "=================================================================\n",
            " input_4 (InputLayer)        [(None, 3, 3675)]         0         \n",
            "                                                                 \n",
            " lstm_3 (LSTM)               (None, 4)                 58880     \n",
            "                                                                 \n",
            " batch_normalization_3 (Batc  (None, 4)                16        \n",
            " hNormalization)                                                 \n",
            "                                                                 \n",
            " dense_6 (Dense)             (None, 8)                 40        \n",
            "                                                                 \n",
            " dense_7 (Dense)             (None, 4)                 36        \n",
            "                                                                 \n",
            " tf.nn.softmax_3 (TFOpLambda  (None, 4)                0         \n",
            " )                                                               \n",
            "                                                                 \n",
            "=================================================================\n",
            "Total params: 58,972\n",
            "Trainable params: 58,964\n",
            "Non-trainable params: 8\n",
            "_________________________________________________________________\n"
          ]
        }
      ],
      "source": [
        "model = model_dir.get_model(input_dim= dim,\n",
        "                      output_shape= output_shape,\n",
        "                      steps= steps)\n",
        "model.summary()"
      ]
    },
    {
      "cell_type": "code",
      "execution_count": 65,
      "metadata": {
        "colab": {
          "base_uri": "https://localhost:8080/"
        },
        "id": "RTbkMGzuAY_1",
        "outputId": "0f3f43ea-fcf7-463c-b953-dbafa2567cc1"
      },
      "outputs": [
        {
          "output_type": "stream",
          "name": "stdout",
          "text": [
            "Epoch 1/10\n",
            "128/128 [==============================] - 5s 16ms/step - loss: 1.0971 - auc: 0.7854 - val_loss: 1.0167 - val_auc: 0.8164\n",
            "Epoch 2/10\n",
            "128/128 [==============================] - 1s 9ms/step - loss: 0.9990 - auc: 0.8132 - val_loss: 1.0043 - val_auc: 0.8161\n",
            "Epoch 3/10\n",
            "128/128 [==============================] - 1s 9ms/step - loss: 0.9625 - auc: 0.8260 - val_loss: 1.0047 - val_auc: 0.8136\n",
            "Epoch 4/10\n",
            "128/128 [==============================] - 1s 10ms/step - loss: 0.9404 - auc: 0.8326 - val_loss: 1.0596 - val_auc: 0.7598\n",
            "Epoch 5/10\n",
            "128/128 [==============================] - 1s 9ms/step - loss: 0.9247 - auc: 0.8380 - val_loss: 1.0947 - val_auc: 0.7556\n",
            "Epoch 6/10\n",
            "128/128 [==============================] - 1s 9ms/step - loss: 0.9160 - auc: 0.8406 - val_loss: 1.1028 - val_auc: 0.7519\n",
            "Epoch 7/10\n",
            "128/128 [==============================] - 1s 9ms/step - loss: 0.9040 - auc: 0.8451 - val_loss: 1.0917 - val_auc: 0.7936\n",
            "Epoch 8/10\n",
            "128/128 [==============================] - 1s 9ms/step - loss: 0.9064 - auc: 0.8438 - val_loss: 1.1343 - val_auc: 0.7500\n",
            "Epoch 9/10\n",
            "128/128 [==============================] - 1s 9ms/step - loss: 0.9004 - auc: 0.8454 - val_loss: 1.1474 - val_auc: 0.7512\n",
            "Epoch 10/10\n",
            "128/128 [==============================] - 1s 9ms/step - loss: 0.8931 - auc: 0.8497 - val_loss: 1.0889 - val_auc: 0.7979\n"
          ]
        }
      ],
      "source": [
        "history = model.fit(Xtrain3, ytrain_encoded, validation_split= 0.2, epochs= epochs)"
      ]
    },
    {
      "cell_type": "markdown",
      "metadata": {
        "id": "Y5WlCBLTAY_1"
      },
      "source": [
        "### Training Curves"
      ]
    },
    {
      "cell_type": "code",
      "execution_count": 66,
      "metadata": {
        "id": "feS7ixGbAY_1"
      },
      "outputs": [],
      "source": [
        "auc = history.history['auc']\n",
        "val_auc = history.history['val_auc']\n",
        "\n",
        "loss = history.history['loss']\n",
        "val_loss = history.history['val_loss']\n",
        "\n",
        "epochs_range = range(epochs)"
      ]
    },
    {
      "cell_type": "code",
      "execution_count": 67,
      "metadata": {
        "colab": {
          "base_uri": "https://localhost:8080/",
          "height": 499
        },
        "id": "onfSNb7pAY_1",
        "outputId": "59e858c9-ba65-40e9-cc48-8edb5ed3e7a3"
      },
      "outputs": [
        {
          "output_type": "display_data",
          "data": {
            "text/plain": [
              "<Figure size 1008x576 with 2 Axes>"
            ],
            "image/png": "[encoded data removed]"
          },
          "metadata": {
            "needs_background": "light"
          }
        }
      ],
      "source": [
        "plt.figure(figsize=(14, 8))\n",
        "plt.subplot(1, 2, 1)\n",
        "plt.plot(epochs_range, auc, label='Training AUC')\n",
        "plt.plot(epochs_range, val_auc, label='Validation AUC')\n",
        "plt.legend(loc='upper right')\n",
        "plt.title('Training and Validation AUC for LSTM at X=3')\n",
        "\n",
        "plt.subplot(1, 2, 2)\n",
        "plt.plot(epochs_range, loss, label='Training Loss')\n",
        "plt.plot(epochs_range, val_loss, label='Validation Loss')\n",
        "plt.legend(loc='upper right')\n",
        "plt.title('Training and Validation Loss for LSTM at X=3')\n",
        "plt.show()"
      ]
    },
    {
      "cell_type": "markdown",
      "metadata": {
        "id": "5ODIK5pwAY_1"
      },
      "source": [
        "### Training evaluation"
      ]
    },
    {
      "cell_type": "code",
      "execution_count": 68,
      "metadata": {
        "colab": {
          "base_uri": "https://localhost:8080/"
        },
        "id": "kjGql-1-AY_1",
        "outputId": "ea95af17-a16a-43cd-e0b8-055c80530b44"
      },
      "outputs": [
        {
          "output_type": "stream",
          "name": "stdout",
          "text": [
            "              precision    recall  f1-score   support\n",
            "\n",
            "           1       0.59      0.99      0.74      2859\n",
            "           2       0.78      0.08      0.14      1497\n",
            "           3       0.83      0.24      0.37       426\n",
            "           4       0.93      0.08      0.15       308\n",
            "\n",
            "    accuracy                           0.60      5090\n",
            "   macro avg       0.78      0.35      0.35      5090\n",
            "weighted avg       0.68      0.60      0.49      5090\n",
            "\n"
          ]
        }
      ],
      "source": [
        "prediction_train = y_encoder.inverse_transform(model.predict(Xtrain3))\n",
        "print(classification_report(train_data.act, prediction_train))"
      ]
    },
    {
      "cell_type": "markdown",
      "metadata": {
        "id": "uIV48oVtAY_1"
      },
      "source": [
        "### Testing Evaluation"
      ]
    },
    {
      "cell_type": "code",
      "execution_count": 69,
      "metadata": {
        "colab": {
          "base_uri": "https://localhost:8080/"
        },
        "id": "napRvrNXAY_1",
        "outputId": "a1291e73-d2fc-4391-ddcc-88edca8766c8"
      },
      "outputs": [
        {
          "output_type": "stream",
          "name": "stdout",
          "text": [
            "              precision    recall  f1-score   support\n",
            "\n",
            "           1       0.50      0.94      0.65       363\n",
            "           2       0.31      0.02      0.04       217\n",
            "           3       0.07      0.01      0.02        83\n",
            "           4       0.00      0.00      0.00        59\n",
            "\n",
            "    accuracy                           0.48       722\n",
            "   macro avg       0.22      0.24      0.18       722\n",
            "weighted avg       0.35      0.48      0.34       722\n",
            "\n"
          ]
        }
      ],
      "source": [
        "prediction_test = y_encoder.inverse_transform(model.predict(Xtest3))\n",
        "print(classification_report(test_data.act, prediction_test))"
      ]
    },
    {
      "cell_type": "code",
      "source": [
        "model.save(\"X3\")\n",
        "!zip -r /content/X3.zip /content/X3\n",
        "from google.colab import files\n",
        "files.download('/content/X3.zip')"
      ],
      "metadata": {
        "colab": {
          "base_uri": "https://localhost:8080/",
          "height": 233
        },
        "id": "69pYULzyGOL0",
        "outputId": "e7fb1e8a-e962-492c-95f5-f02235bba49e"
      },
      "execution_count": 70,
      "outputs": [
        {
          "output_type": "stream",
          "name": "stderr",
          "text": [
            "WARNING:absl:Found untraced functions such as lstm_cell_3_layer_call_fn, lstm_cell_3_layer_call_and_return_conditional_losses while saving (showing 2 of 2). These functions will not be directly callable after loading.\n"
          ]
        },
        {
          "output_type": "stream",
          "name": "stdout",
          "text": [
            "INFO:tensorflow:Assets written to: X3/assets\n"
          ]
        },
        {
          "output_type": "stream",
          "name": "stderr",
          "text": [
            "INFO:tensorflow:Assets written to: X3/assets\n",
            "WARNING:absl:<keras.layers.recurrent.LSTMCell object at 0x7f5721c4e1d0> has the same name 'LSTMCell' as a built-in Keras object. Consider renaming <class 'keras.layers.recurrent.LSTMCell'> to avoid naming conflicts when loading with `tf.keras.models.load_model`. If renaming is not possible, pass the object in the `custom_objects` parameter of the load function.\n"
          ]
        },
        {
          "output_type": "stream",
          "name": "stdout",
          "text": [
            "  adding: content/X3/ (stored 0%)\n",
            "  adding: content/X3/assets/ (stored 0%)\n",
            "  adding: content/X3/keras_metadata.pb (deflated 88%)\n",
            "  adding: content/X3/variables/ (stored 0%)\n",
            "  adding: content/X3/variables/variables.data-00000-of-00001 (deflated 53%)\n",
            "  adding: content/X3/variables/variables.index (deflated 64%)\n",
            "  adding: content/X3/saved_model.pb (deflated 89%)\n"
          ]
        },
        {
          "output_type": "display_data",
          "data": {
            "text/plain": [
              "<IPython.core.display.Javascript object>"
            ],
            "application/javascript": [
              "\n",
              "    async function download(id, filename, size) {\n",
              "      if (!google.colab.kernel.accessAllowed) {\n",
              "        return;\n",
              "      }\n",
              "      const div = document.createElement('div');\n",
              "      const label = document.createElement('label');\n",
              "      label.textContent = `Downloading \"${filename}\": `;\n",
              "      div.appendChild(label);\n",
              "      const progress = document.createElement('progress');\n",
              "      progress.max = size;\n",
              "      div.appendChild(progress);\n",
              "      document.body.appendChild(div);\n",
              "\n",
              "      const buffers = [];\n",
              "      let downloaded = 0;\n",
              "\n",
              "      const channel = await google.colab.kernel.comms.open(id);\n",
              "      // Send a message to notify the kernel that we're ready.\n",
              "      channel.send({})\n",
              "\n",
              "      for await (const message of channel.messages) {\n",
              "        // Send a message to notify the kernel that we're ready.\n",
              "        channel.send({})\n",
              "        if (message.buffers) {\n",
              "          for (const buffer of message.buffers) {\n",
              "            buffers.push(buffer);\n",
              "            downloaded += buffer.byteLength;\n",
              "            progress.value = downloaded;\n",
              "          }\n",
              "        }\n",
              "      }\n",
              "      const blob = new Blob(buffers, {type: 'application/binary'});\n",
              "      const a = document.createElement('a');\n",
              "      a.href = window.URL.createObjectURL(blob);\n",
              "      a.download = filename;\n",
              "      div.appendChild(a);\n",
              "      a.click();\n",
              "      div.remove();\n",
              "    }\n",
              "  "
            ]
          },
          "metadata": {}
        },
        {
          "output_type": "display_data",
          "data": {
            "text/plain": [
              "<IPython.core.display.Javascript object>"
            ],
            "application/javascript": [
              "download(\"download_c4b5b8dd-44b9-41d2-8c94-62e2b8636525\", \"X3.zip\", 432210)"
            ]
          },
          "metadata": {}
        }
      ]
    },
    {
      "cell_type": "markdown",
      "metadata": {
        "id": "3sJXgdG3AY_1"
      },
      "source": [
        "## Part 3.5: Train for X=4\n"
      ]
    },
    {
      "cell_type": "code",
      "execution_count": 71,
      "metadata": {
        "colab": {
          "base_uri": "https://localhost:8080/"
        },
        "id": "SLAGQpgNAY_1",
        "outputId": "bac6d5d7-48b3-48f0-d504-465b019ca70c"
      },
      "outputs": [
        {
          "output_type": "execute_result",
          "data": {
            "text/plain": [
              "((5090, 4, 3675), (722, 4, 3675))"
            ]
          },
          "metadata": {},
          "execution_count": 71
        }
      ],
      "source": [
        "Xtrain4 = transform_x(train_padded, tokenizer, x=4)\n",
        "Xtest4 = transform_x(test_padded, tokenizer, x=4)\n",
        "\n",
        "Xtrain4.shape , Xtest4.shape"
      ]
    },
    {
      "cell_type": "code",
      "execution_count": 72,
      "metadata": {
        "id": "MqcxopLdAY_1"
      },
      "outputs": [],
      "source": [
        "steps = Xtrain4.shape[1]\n",
        "dim = Xtrain4.shape[2]\n",
        "output_shape = ytrain_encoded.shape[1]\n",
        "\n",
        "epochs = 10"
      ]
    },
    {
      "cell_type": "code",
      "execution_count": 73,
      "metadata": {
        "colab": {
          "base_uri": "https://localhost:8080/"
        },
        "id": "Fv34DE7wAY_1",
        "outputId": "4b651e43-2429-4a13-ce73-b4c87445bc39"
      },
      "outputs": [
        {
          "output_type": "stream",
          "name": "stdout",
          "text": [
            "Model: \"model_4\"\n",
            "_________________________________________________________________\n",
            " Layer (type)                Output Shape              Param #   \n",
            "=================================================================\n",
            " input_5 (InputLayer)        [(None, 4, 3675)]         0         \n",
            "                                                                 \n",
            " lstm_4 (LSTM)               (None, 5)                 73620     \n",
            "                                                                 \n",
            " batch_normalization_4 (Batc  (None, 5)                20        \n",
            " hNormalization)                                                 \n",
            "                                                                 \n",
            " dense_8 (Dense)             (None, 8)                 48        \n",
            "                                                                 \n",
            " dense_9 (Dense)             (None, 4)                 36        \n",
            "                                                                 \n",
            " tf.nn.softmax_4 (TFOpLambda  (None, 4)                0         \n",
            " )                                                               \n",
            "                                                                 \n",
            "=================================================================\n",
            "Total params: 73,724\n",
            "Trainable params: 73,714\n",
            "Non-trainable params: 10\n",
            "_________________________________________________________________\n"
          ]
        }
      ],
      "source": [
        "model = model_dir.get_model(input_dim= dim,\n",
        "                      output_shape= output_shape,\n",
        "                      steps= steps)\n",
        "model.summary()"
      ]
    },
    {
      "cell_type": "code",
      "execution_count": 74,
      "metadata": {
        "colab": {
          "base_uri": "https://localhost:8080/"
        },
        "id": "EbT4az-HAY_2",
        "outputId": "0f4bd1f3-204e-429c-92ba-e813299fc63f"
      },
      "outputs": [
        {
          "output_type": "stream",
          "name": "stdout",
          "text": [
            "Epoch 1/10\n",
            "128/128 [==============================] - 6s 23ms/step - loss: 1.0806 - auc: 0.7903 - val_loss: 1.0103 - val_auc: 0.8203\n",
            "Epoch 2/10\n",
            "128/128 [==============================] - 1s 12ms/step - loss: 0.9677 - auc: 0.8233 - val_loss: 1.0016 - val_auc: 0.8198\n",
            "Epoch 3/10\n",
            "128/128 [==============================] - 2s 13ms/step - loss: 0.9140 - auc: 0.8411 - val_loss: 1.0264 - val_auc: 0.8162\n",
            "Epoch 4/10\n",
            "128/128 [==============================] - 2s 13ms/step - loss: 0.8767 - auc: 0.8554 - val_loss: 1.0667 - val_auc: 0.8084\n",
            "Epoch 5/10\n",
            "128/128 [==============================] - 1s 11ms/step - loss: 0.8627 - auc: 0.8572 - val_loss: 1.1155 - val_auc: 0.8001\n",
            "Epoch 6/10\n",
            "128/128 [==============================] - 2s 13ms/step - loss: 0.8556 - auc: 0.8601 - val_loss: 1.2750 - val_auc: 0.7956\n",
            "Epoch 7/10\n",
            "128/128 [==============================] - 2s 12ms/step - loss: 0.8469 - auc: 0.8622 - val_loss: 1.1899 - val_auc: 0.7846\n",
            "Epoch 8/10\n",
            "128/128 [==============================] - 2s 12ms/step - loss: 0.8447 - auc: 0.8628 - val_loss: 1.1672 - val_auc: 0.7826\n",
            "Epoch 9/10\n",
            "128/128 [==============================] - 2s 13ms/step - loss: 0.8411 - auc: 0.8632 - val_loss: 1.1981 - val_auc: 0.7523\n",
            "Epoch 10/10\n",
            "128/128 [==============================] - 2s 13ms/step - loss: 0.8342 - auc: 0.8672 - val_loss: 1.2030 - val_auc: 0.7902\n"
          ]
        }
      ],
      "source": [
        "history = model.fit(Xtrain4, ytrain_encoded, validation_split= 0.2, epochs= epochs)"
      ]
    },
    {
      "cell_type": "markdown",
      "metadata": {
        "id": "QdSu36LvAY_2"
      },
      "source": [
        "### Training Curves"
      ]
    },
    {
      "cell_type": "code",
      "execution_count": 75,
      "metadata": {
        "id": "RWIlpMgYAY_2"
      },
      "outputs": [],
      "source": [
        "auc = history.history['auc']\n",
        "val_auc = history.history['val_auc']\n",
        "\n",
        "loss = history.history['loss']\n",
        "val_loss = history.history['val_loss']\n",
        "\n",
        "epochs_range = range(epochs)"
      ]
    },
    {
      "cell_type": "code",
      "execution_count": 76,
      "metadata": {
        "colab": {
          "base_uri": "https://localhost:8080/",
          "height": 499
        },
        "id": "HGNB2rGmAY_2",
        "outputId": "931ce936-8cd9-4ea6-8438-f5092b946afd"
      },
      "outputs": [
        {
          "output_type": "display_data",
          "data": {
            "text/plain": [
              "<Figure size 1008x576 with 2 Axes>"
            ],
            "image/png": "[encoded data removed]"
          },
          "metadata": {
            "needs_background": "light"
          }
        }
      ],
      "source": [
        "plt.figure(figsize=(14, 8))\n",
        "plt.subplot(1, 2, 1)\n",
        "plt.plot(epochs_range, auc, label='Training AUC')\n",
        "plt.plot(epochs_range, val_auc, label='Validation AUC')\n",
        "plt.legend(loc='upper right')\n",
        "plt.title('Training and Validation AUC for LSTM at X=4')\n",
        "\n",
        "plt.subplot(1, 2, 2)\n",
        "plt.plot(epochs_range, loss, label='Training Loss')\n",
        "plt.plot(epochs_range, val_loss, label='Validation Loss')\n",
        "plt.legend(loc='upper right')\n",
        "plt.title('Training and Validation Loss for LSTM at X=4')\n",
        "plt.show()"
      ]
    },
    {
      "cell_type": "markdown",
      "metadata": {
        "id": "FzIQrSgOAY_2"
      },
      "source": [
        "### Training evaluation"
      ]
    },
    {
      "cell_type": "code",
      "execution_count": 77,
      "metadata": {
        "colab": {
          "base_uri": "https://localhost:8080/"
        },
        "id": "GrPpWsgLAY_2",
        "outputId": "1255f56a-8646-494c-ac21-f3eed825fb2d"
      },
      "outputs": [
        {
          "output_type": "stream",
          "name": "stdout",
          "text": [
            "              precision    recall  f1-score   support\n",
            "\n",
            "           1       0.60      0.98      0.74      2859\n",
            "           2       0.87      0.09      0.17      1497\n",
            "           3       0.77      0.31      0.45       426\n",
            "           4       0.85      0.11      0.20       308\n",
            "\n",
            "    accuracy                           0.61      5090\n",
            "   macro avg       0.77      0.38      0.39      5090\n",
            "weighted avg       0.71      0.61      0.52      5090\n",
            "\n"
          ]
        }
      ],
      "source": [
        "prediction_train = y_encoder.inverse_transform(model.predict(Xtrain4))\n",
        "print(classification_report(train_data.act, prediction_train))"
      ]
    },
    {
      "cell_type": "markdown",
      "metadata": {
        "id": "Si5simWAAY_2"
      },
      "source": [
        "### Testing Evaluation"
      ]
    },
    {
      "cell_type": "code",
      "execution_count": 78,
      "metadata": {
        "colab": {
          "base_uri": "https://localhost:8080/"
        },
        "id": "cljVdI3WAY_2",
        "outputId": "a1bb9daa-4fd9-4eb8-dfb3-b1d2ae6675ca"
      },
      "outputs": [
        {
          "output_type": "stream",
          "name": "stdout",
          "text": [
            "              precision    recall  f1-score   support\n",
            "\n",
            "           1       0.49      0.93      0.64       363\n",
            "           2       0.00      0.00      0.00       217\n",
            "           3       0.13      0.04      0.06        83\n",
            "           4       0.00      0.00      0.00        59\n",
            "\n",
            "    accuracy                           0.47       722\n",
            "   macro avg       0.16      0.24      0.18       722\n",
            "weighted avg       0.26      0.47      0.33       722\n",
            "\n"
          ]
        }
      ],
      "source": [
        "prediction_test = y_encoder.inverse_transform(model.predict(Xtest4))\n",
        "print(classification_report(test_data.act, prediction_test))"
      ]
    },
    {
      "cell_type": "code",
      "source": [
        "model.save(\"X4\")\n",
        "!zip -r /content/X4.zip /content/X4\n",
        "from google.colab import files\n",
        "files.download('/content/X4.zip')"
      ],
      "metadata": {
        "colab": {
          "base_uri": "https://localhost:8080/",
          "height": 233
        },
        "id": "TrFwsNiyGSts",
        "outputId": "768627ed-c4fd-4230-c443-b2e916ace6d3"
      },
      "execution_count": 79,
      "outputs": [
        {
          "output_type": "stream",
          "name": "stderr",
          "text": [
            "WARNING:absl:Found untraced functions such as lstm_cell_4_layer_call_fn, lstm_cell_4_layer_call_and_return_conditional_losses while saving (showing 2 of 2). These functions will not be directly callable after loading.\n"
          ]
        },
        {
          "output_type": "stream",
          "name": "stdout",
          "text": [
            "INFO:tensorflow:Assets written to: X4/assets\n"
          ]
        },
        {
          "output_type": "stream",
          "name": "stderr",
          "text": [
            "INFO:tensorflow:Assets written to: X4/assets\n",
            "WARNING:absl:<keras.layers.recurrent.LSTMCell object at 0x7f571dca15d0> has the same name 'LSTMCell' as a built-in Keras object. Consider renaming <class 'keras.layers.recurrent.LSTMCell'> to avoid naming conflicts when loading with `tf.keras.models.load_model`. If renaming is not possible, pass the object in the `custom_objects` parameter of the load function.\n"
          ]
        },
        {
          "output_type": "stream",
          "name": "stdout",
          "text": [
            "  adding: content/X4/ (stored 0%)\n",
            "  adding: content/X4/assets/ (stored 0%)\n",
            "  adding: content/X4/keras_metadata.pb (deflated 88%)\n",
            "  adding: content/X4/variables/ (stored 0%)\n",
            "  adding: content/X4/variables/variables.data-00000-of-00001 (deflated 48%)\n",
            "  adding: content/X4/variables/variables.index (deflated 64%)\n",
            "  adding: content/X4/saved_model.pb (deflated 90%)\n"
          ]
        },
        {
          "output_type": "display_data",
          "data": {
            "text/plain": [
              "<IPython.core.display.Javascript object>"
            ],
            "application/javascript": [
              "\n",
              "    async function download(id, filename, size) {\n",
              "      if (!google.colab.kernel.accessAllowed) {\n",
              "        return;\n",
              "      }\n",
              "      const div = document.createElement('div');\n",
              "      const label = document.createElement('label');\n",
              "      label.textContent = `Downloading \"${filename}\": `;\n",
              "      div.appendChild(label);\n",
              "      const progress = document.createElement('progress');\n",
              "      progress.max = size;\n",
              "      div.appendChild(progress);\n",
              "      document.body.appendChild(div);\n",
              "\n",
              "      const buffers = [];\n",
              "      let downloaded = 0;\n",
              "\n",
              "      const channel = await google.colab.kernel.comms.open(id);\n",
              "      // Send a message to notify the kernel that we're ready.\n",
              "      channel.send({})\n",
              "\n",
              "      for await (const message of channel.messages) {\n",
              "        // Send a message to notify the kernel that we're ready.\n",
              "        channel.send({})\n",
              "        if (message.buffers) {\n",
              "          for (const buffer of message.buffers) {\n",
              "            buffers.push(buffer);\n",
              "            downloaded += buffer.byteLength;\n",
              "            progress.value = downloaded;\n",
              "          }\n",
              "        }\n",
              "      }\n",
              "      const blob = new Blob(buffers, {type: 'application/binary'});\n",
              "      const a = document.createElement('a');\n",
              "      a.href = window.URL.createObjectURL(blob);\n",
              "      a.download = filename;\n",
              "      div.appendChild(a);\n",
              "      a.click();\n",
              "      div.remove();\n",
              "    }\n",
              "  "
            ]
          },
          "metadata": {}
        },
        {
          "output_type": "display_data",
          "data": {
            "text/plain": [
              "<IPython.core.display.Javascript object>"
            ],
            "application/javascript": [
              "download(\"download_d2e24754-8692-4d02-9222-43b051c51f02\", \"X4.zip\", 556192)"
            ]
          },
          "metadata": {}
        }
      ]
    },
    {
      "cell_type": "markdown",
      "metadata": {
        "id": "K_Jj9kL4AY_2"
      },
      "source": [
        "# Part 4: Comparison"
      ]
    },
    {
      "cell_type": "markdown",
      "metadata": {
        "id": "2EZvIRS-AY_2"
      },
      "source": [
        "- We see that the model performance does not increase linearly with X. \n",
        "- Beyond X=2, the model starts overfitting. \n",
        "- This may be because of use of only Linear Layers in LSTM. \n",
        "- To increase accuracy, we need to add Bidirectional LSTM to increase model context for learning."
      ]
    }
  ],
  "metadata": {
    "kernelspec": {
      "display_name": "Python 3 (ipykernel)",
      "language": "python",
      "name": "python3"
    },
    "language_info": {
      "codemirror_mode": {
        "name": "ipython",
        "version": 3
      },
      "file_extension": ".py",
      "mimetype": "text/x-python",
      "name": "python",
      "nbconvert_exporter": "python",
      "pygments_lexer": "ipython3",
      "version": "3.9.7"
    },
    "latex_envs": {
      "LaTeX_envs_menu_present": true,
      "autoclose": false,
      "autocomplete": true,
      "bibliofile": "biblio.bib",
      "cite_by": "apalike",
      "current_citInitial": 1,
      "eqLabelWithNumbers": true,
      "eqNumInitial": 1,
      "hotkeys": {
        "equation": "Ctrl-E",
        "itemize": "Ctrl-I"
      },
      "labels_anchors": false,
      "latex_user_defs": false,
      "report_style_numbering": false,
      "user_envs_cfg": false
    },
    "colab": {
      "name": "DL_A2_P2",
      "provenance": []
    }
  },
  "nbformat": 4,
  "nbformat_minor": 0
}